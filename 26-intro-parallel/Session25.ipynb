{
 "cells": [
  {
   "cell_type": "markdown",
   "id": "d5aab7b1",
   "metadata": {
    "slideshow": {
     "slide_type": "slide"
    }
   },
   "source": [
    "# Parallel programming in Python\n",
    "\n",
    "Python provides some feastures included in Python and external libraries for parallel programming.\n",
    "\n",
    "We will look today into high level featurs to write parallel code:\n",
    "\n",
    "1. Asynchronous programming\n",
    "2. Job lib\n",
    "3. Message passing interface\n",
    "\n"
   ]
  },
  {
   "cell_type": "markdown",
   "id": "8079fa63",
   "metadata": {
    "slideshow": {
     "slide_type": "slide"
    }
   },
   "source": [
    "## Asynchronous programming \n",
    "\n",
    "In this example we compute the sum $\\sum_i^n v_i$ over a vector $V=\\{vi | i,\\ldots,n\\}$ using multiple cores of our computer. We use the divivde and conquer approach and split the computaiton of the sum in smaller problems:\n",
    "\n",
    "* $ sum_ 1 = \\sum_i^{n/2} v_i $\n",
    "* $ sum_2 = \\sum_{n/2+1}^{n} v_i$\n",
    "* $ sum = sum_1 + sum_2$"
   ]
  },
  {
   "cell_type": "code",
   "execution_count": 31,
   "id": "fad22d11",
   "metadata": {
    "slideshow": {
     "slide_type": "fragment"
    }
   },
   "outputs": [],
   "source": [
    "values = [1,2,3,4,5,6,7,8,9];"
   ]
  },
  {
   "cell_type": "markdown",
   "id": "07e311c1",
   "metadata": {
    "slideshow": {
     "slide_type": "slide"
    }
   },
   "source": [
    "### Define a function to compute the partial sum"
   ]
  },
  {
   "cell_type": "code",
   "execution_count": 34,
   "id": "1951d0e2",
   "metadata": {
    "slideshow": {
     "slide_type": "fragment"
    }
   },
   "outputs": [],
   "source": [
    "def part_sum(values,begin,end):\n",
    "    sum = 0\n",
    "    for i in range(int(begin),int(end)):\n",
    "        sum += values[i]\n",
    "    return sum"
   ]
  },
  {
   "cell_type": "markdown",
   "id": "96887c11",
   "metadata": {
    "slideshow": {
     "slide_type": "slide"
    }
   },
   "source": [
    "### Launch concurrent tasks two compute the partial sums"
   ]
  },
  {
   "cell_type": "code",
   "execution_count": 33,
   "id": "08424ae5",
   "metadata": {
    "slideshow": {
     "slide_type": "fragment"
    }
   },
   "outputs": [
    {
     "name": "stdout",
     "output_type": "stream",
     "text": [
      "45\n"
     ]
    }
   ],
   "source": [
    "import concurrent.futures as f\n",
    "\n",
    "executor = f.ThreadPoolExecutor(max_workers=4)\n",
    "\n",
    "f1 = executor.submit(part_sum,values,0,len(values)/2)\n",
    "f2 = executor.submit(part_sum,values,len(values)/2,len(values))\n",
    "\n",
    "result = f1.result() + f2.result()\n",
    "print(result)"
   ]
  },
  {
   "cell_type": "markdown",
   "id": "d1be663d",
   "metadata": {
    "slideshow": {
     "slide_type": "slide"
    }
   },
   "source": [
    "### Check the result using a serial sum"
   ]
  },
  {
   "cell_type": "code",
   "execution_count": 36,
   "id": "fe56b17f",
   "metadata": {
    "slideshow": {
     "slide_type": "fragment"
    }
   },
   "outputs": [
    {
     "name": "stdout",
     "output_type": "stream",
     "text": [
      "45\n"
     ]
    }
   ],
   "source": [
    "sum=0\n",
    "for value in values:\n",
    "    sum += value\n",
    "print(sum)"
   ]
  },
  {
   "cell_type": "markdown",
   "id": "dd5ec8e0",
   "metadata": {
    "slideshow": {
     "slide_type": "slide"
    }
   },
   "source": [
    "## Lightweight pipelining with Python functions (joblib)\n",
    "\n",
    "[joblib](https://pypi.org/project/joblib/) is an external library for parallel computations in Python.\n",
    "\n",
    "The library can be installed via pip\n",
    "\n",
    "```bash\n",
    "pip3 install joblib\n",
    "```\n",
    "Here, we look into the assembly of the stiffness matrix of the finite difference example of the Python example lecture."
   ]
  },
  {
   "cell_type": "code",
   "execution_count": 45,
   "id": "dd211463",
   "metadata": {
    "slideshow": {
     "slide_type": "fragment"
    }
   },
   "outputs": [],
   "source": [
    "from joblib import Parallel, delayed\n",
    "import numpy as np"
   ]
  },
  {
   "cell_type": "markdown",
   "id": "2d6f7821",
   "metadata": {
    "slideshow": {
     "slide_type": "slide"
    }
   },
   "source": [
    "\n",
    "## Assemble the stiffness matrix using finite differences\n",
    "\n",
    "\n",
    "1. Dirichlet boundary condition at $x=0$:\n",
    "$$\n",
    "u_1 = 0.\n",
    "$$\n",
    "2. Finite difference schems for \n",
    "In $\\overline{\\Omega}$: \n",
    "$\\forall i=2,\\ldots,n-1$:\n",
    "\n",
    "$$\n",
    "- E \\frac{u_{i-1}-2u_i+u_{i+1}}{h^2} = f_b(x_k).\n",
    "$$\n",
    "\n",
    "3. Neumann boundary condition at $x=1$:\n",
    "\n",
    "$$\n",
    "E \\frac{u_{n-3}-4u_{n-2}+3u_n-1}{2h} = g.\n",
    "$$\n",
    "\n",
    "For simplicity we assume $E=1$."
   ]
  },
  {
   "cell_type": "code",
   "execution_count": 41,
   "id": "ddacdbcc",
   "metadata": {
    "slideshow": {
     "slide_type": "slide"
    }
   },
   "outputs": [],
   "source": [
    "def assing(i):\n",
    "    matrix[i,i-1] = -2;\n",
    "    matrix[i,i] = 4;\n",
    "    matrix[i,i+1] = -2;\n",
    "    "
   ]
  },
  {
   "cell_type": "code",
   "execution_count": 51,
   "id": "e712d726",
   "metadata": {
    "slideshow": {
     "slide_type": "fragment"
    }
   },
   "outputs": [],
   "source": [
    "n = 10\n",
    "matrix = np.zeros([n, n])\n",
    "h = 0.1\n",
    "\n",
    "matrix[0,0] = 1\n",
    "\n",
    "\n",
    "Parallel(n_jobs=2,prefer=\"threads\")(delayed(assing)(i) for i in range(1,len(matrix)-1))\n",
    "\n",
    "matrix[n-1,n-1] = 3*h;\n",
    "matrix[n-1,n-2] = -4*h;    \n",
    "matrix[n-1,n-3] = h;\n",
    "\n",
    "matrix *= 1./(2*h*h);"
   ]
  },
  {
   "cell_type": "markdown",
   "id": "bba66806",
   "metadata": {
    "slideshow": {
     "slide_type": "slide"
    }
   },
   "source": [
    "## Distributed programming in Python using MPI\n",
    "\n",
    "For distributed programming a very common tool is the Message Passing Interface ([MPI]()). \n",
    "\n",
    "We install the Python package on the cluster as followed:\n",
    "\n",
    "```bash\n",
    "module load openmpi\n",
    "pip3 install mpi4py\n",
    "```\n",
    "\n",
    "MPI is a C library but there is some interface for Python ```mpi4py`."
   ]
  },
  {
   "cell_type": "markdown",
   "id": "f9b7ecdf",
   "metadata": {
    "slideshow": {
     "slide_type": "slide"
    }
   },
   "source": [
    "### Distributed hello world "
   ]
  },
  {
   "cell_type": "code",
   "execution_count": 2,
   "id": "5dd2dc8d",
   "metadata": {
    "slideshow": {
     "slide_type": "fragment"
    }
   },
   "outputs": [],
   "source": [
    "from mpi4py import MPI\n",
    "import sys"
   ]
  },
  {
   "cell_type": "code",
   "execution_count": 3,
   "id": "bdf0df9b",
   "metadata": {
    "slideshow": {
     "slide_type": "fragment"
    }
   },
   "outputs": [],
   "source": [
    "def print_hello(rank, size, name):\n",
    "     msg = \"Hello World! I am process {0} of {1} on {2}.\\n\"\n",
    "     sys.stdout.write(msg.format(rank, size, name))"
   ]
  },
  {
   "cell_type": "code",
   "execution_count": 4,
   "id": "723fbdd9",
   "metadata": {
    "slideshow": {
     "slide_type": "slide"
    }
   },
   "outputs": [
    {
     "name": "stdout",
     "output_type": "stream",
     "text": [
      "Hello World! I am process 0 of 1 on Patricks-Air.attlocal.net.\n"
     ]
    }
   ],
   "source": [
    "if __name__ == \"__main__\":\n",
    "     size = MPI.COMM_WORLD.Get_size()\n",
    "     rank = MPI.COMM_WORLD.Get_rank()\n",
    "     name = MPI.Get_processor_name()\n",
    "   \n",
    "     print_hello(rank, size, name)"
   ]
  },
  {
   "cell_type": "markdown",
   "id": "f4fb1586",
   "metadata": {
    "slideshow": {
     "slide_type": "slide"
    }
   },
   "source": [
    "### Compute the sum on multiple compute nodes"
   ]
  },
  {
   "cell_type": "code",
   "execution_count": 6,
   "id": "4af3261f",
   "metadata": {
    "slideshow": {
     "slide_type": "fragment"
    }
   },
   "outputs": [],
   "source": [
    "values = [1,2,3,4,5,6,7,8,9]"
   ]
  },
  {
   "cell_type": "code",
   "execution_count": 7,
   "id": "b301d12d",
   "metadata": {
    "slideshow": {
     "slide_type": "fragment"
    }
   },
   "outputs": [],
   "source": [
    "size = MPI.COMM_WORLD.Get_size()\n",
    "rank = MPI.COMM_WORLD.Get_rank()\n",
    "comm = MPI.COMM_WORLD"
   ]
  },
  {
   "cell_type": "markdown",
   "id": "0a5c3894",
   "metadata": {
    "slideshow": {
     "slide_type": "slide"
    }
   },
   "source": [
    "#### Partioning of the data"
   ]
  },
  {
   "cell_type": "code",
   "execution_count": 9,
   "id": "eec2d987",
   "metadata": {
    "slideshow": {
     "slide_type": "fragment"
    }
   },
   "outputs": [],
   "source": [
    "partition = round(len(values)/size)\n",
    "\n",
    "begin = rank * partition\n",
    "end = -1\n",
    "if rank == size-1:\n",
    "    end = len(values)\n",
    "else:\n",
    "    end = (rank+1) * partition"
   ]
  },
  {
   "cell_type": "markdown",
   "id": "33cbf30e",
   "metadata": {
    "slideshow": {
     "slide_type": "slide"
    }
   },
   "source": [
    "#### Computation on each node"
   ]
  },
  {
   "cell_type": "code",
   "execution_count": 10,
   "id": "a93a94eb",
   "metadata": {
    "slideshow": {
     "slide_type": "fragment"
    }
   },
   "outputs": [],
   "source": [
    "sum = 0\n",
    "\n",
    "for i in range(int(begin),int(end)):\n",
    "    sum += values[i]"
   ]
  },
  {
   "cell_type": "markdown",
   "id": "ec929583",
   "metadata": {
    "slideshow": {
     "slide_type": "slide"
    }
   },
   "source": [
    "#### Sending the partial sum to rank 0"
   ]
  },
  {
   "cell_type": "code",
   "execution_count": 11,
   "id": "b178b06f",
   "metadata": {
    "slideshow": {
     "slide_type": "fragment"
    }
   },
   "outputs": [
    {
     "name": "stdout",
     "output_type": "stream",
     "text": [
      "45\n"
     ]
    }
   ],
   "source": [
    "if rank != 0 :\n",
    "      req = comm.isend(sum,dest=0,tag=rank)\n",
    "      req.wait()\n",
    "else:\n",
    "      total_sum = 0\n",
    "      data = []\n",
    "      for i in range(1,size):\n",
    "          data.append(comm.irecv(source=i,tag=i))\n",
    "      for d in data: \n",
    "          total_sum += d.wait()\n",
    "      total_sum += sum\n",
    "      print(total_sum)"
   ]
  }
 ],
 "metadata": {
  "celltoolbar": "Slideshow",
  "kernelspec": {
   "display_name": "Python 3",
   "language": "python",
   "name": "python3"
  },
  "language_info": {
   "codemirror_mode": {
    "name": "ipython",
    "version": 3
   },
   "file_extension": ".py",
   "mimetype": "text/x-python",
   "name": "python",
   "nbconvert_exporter": "python",
   "pygments_lexer": "ipython3",
   "version": "3.9.13"
  }
 },
 "nbformat": 4,
 "nbformat_minor": 5
}
