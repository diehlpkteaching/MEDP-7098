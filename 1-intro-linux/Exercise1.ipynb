{
 "cells": [
  {
   "cell_type": "markdown",
   "id": "af966a8a",
   "metadata": {},
   "source": [
    "# Linear regression in Bash\n",
    "\n",
    "Read the file `data_linear.csv` in the parent directory. This file contains the $x$ and $y$ values of all the points. And implement the linear regression using bash. You can either submit a bash script `linear.bash` or this notebook here. \n",
    "\n",
    "Let us have a look at the file `data_linear.csv`"
   ]
  },
  {
   "cell_type": "code",
   "execution_count": 1,
   "id": "5c6c1b50",
   "metadata": {},
   "outputs": [
    {
     "name": "stdout",
     "output_type": "stream",
     "text": [
      "cat: ../data_linear.csv: No such file or directory\r\n"
     ]
    }
   ],
   "source": [
    "!cat ../data_linear.csv"
   ]
  },
  {
   "cell_type": "markdown",
   "id": "9e9930fa",
   "metadata": {},
   "source": [
    "The algorithm is the following:\n",
    "    \n",
    "1. Read the coordinates $x_i$ and $y_i$ from the file. Note that you should skip the header.\n",
    "2. Compute the following quantities for all points $i=1,\\ldots,n$:\n",
    "    1. $sum_x = sum_x + x_i$\n",
    "    2. $sumX2 = sumX2 + x_i \\times x_i$\n",
    "    3. $sumY = sumY + y_i$\n",
    "    4. $sumXY = sumXY + x_i \\times x_i$\n",
    "3. Calculate Required Constant a and b of y = a + bx:\n",
    "    1. $b = (n * sumXY - sumX * sumY)/(n*sumX2 - sumX * sumX)$\n",
    "    2. $a = (sumY - b*sumX)/n$\n",
    "4. Print $a$ and $b$ to the terminal"
   ]
  },
  {
   "cell_type": "code",
   "execution_count": null,
   "id": "bb447de1",
   "metadata": {},
   "outputs": [],
   "source": []
  }
 ],
 "metadata": {
  "kernelspec": {
   "display_name": "Python 3",
   "language": "python",
   "name": "python3"
  },
  "language_info": {
   "codemirror_mode": {
    "name": "ipython",
    "version": 3
   },
   "file_extension": ".py",
   "mimetype": "text/x-python",
   "name": "python",
   "nbconvert_exporter": "python",
   "pygments_lexer": "ipython3",
   "version": "3.9.13"
  }
 },
 "nbformat": 4,
 "nbformat_minor": 5
}
