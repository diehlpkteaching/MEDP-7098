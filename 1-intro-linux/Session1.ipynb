{
 "cells": [
  {
   "cell_type": "markdown",
   "id": "96e958ef",
   "metadata": {
    "slideshow": {
     "slide_type": "slide"
    }
   },
   "source": [
    "# Session I - Introduction to Linux\n",
    "\n",
    "## Topics\n",
    "\n",
    "1. Bash \n",
    "2. Editing files in the Bash\n",
    "3. Bash commands\n",
    "4. Bash programming\n"
   ]
  },
  {
   "cell_type": "markdown",
   "id": "ac481057",
   "metadata": {
    "slideshow": {
     "slide_type": "slide"
    }
   },
   "source": [
    "## Why Linux?\n",
    "\n",
    "Excellent question!\n",
    "\n",
    "Let us have a look at the [Top500](https://www.top500.org/), the list with the fastes supercomputer in the world. \n",
    "\n",
    "Here **none** of the 500 supercomputer runs on Windows or MacOS.\n",
    "\n",
    "The [supercomputers](http://www.hpc.lsu.edu/resources/hpc/index.php) at LSU run all on Linux.\n",
    "\n",
    "So if you ant to run large scale simulations, you need to use Linux and Bash to compile your code, move files, and run the simulations!"
   ]
  },
  {
   "cell_type": "markdown",
   "id": "3f1700d2",
   "metadata": {
    "slideshow": {
     "slide_type": "slide"
    }
   },
   "source": [
    "## Bash\n",
    "\n",
    "![](bash.png)"
   ]
  },
  {
   "cell_type": "markdown",
   "id": "e1748bd4",
   "metadata": {
    "slideshow": {
     "slide_type": "slide"
    }
   },
   "source": [
    "### Definitions\n",
    "\n",
    "*Bash*\n",
    "\n",
    "This is the command language interpreter, which is widely used on various operating systems and a default on most GNU/Linux systems.\n",
    "\n",
    "*Shell*\n",
    "\n",
    "This is the macro processort which allows the execution of bash commands.\n",
    "\n",
    "*Scripting*\n",
    "\n",
    "A collection of bash commands which would be executed interactively one-by-one.\n",
    "\n",
    "\n"
   ]
  },
  {
   "cell_type": "code",
   "execution_count": 1,
   "id": "36a37f35",
   "metadata": {
    "slideshow": {
     "slide_type": "slide"
    }
   },
   "outputs": [
    {
     "name": "stdout",
     "output_type": "stream",
     "text": [
      "Session1.ipynb  Session1.slides.html\r\n"
     ]
    }
   ],
   "source": [
    "!ls"
   ]
  },
  {
   "cell_type": "code",
   "execution_count": 2,
   "id": "237b8046",
   "metadata": {
    "slideshow": {
     "slide_type": "slide"
    }
   },
   "outputs": [
    {
     "name": "stdout",
     "output_type": "stream",
     "text": [
      "\u001b[01;34m.\u001b[0m\r\n",
      "├── Session1.ipynb\r\n",
      "└── Session1.slides.html\r\n",
      "\r\n",
      "0 directories, 2 files\r\n"
     ]
    }
   ],
   "source": [
    "!tree"
   ]
  },
  {
   "cell_type": "code",
   "execution_count": null,
   "id": "c5fe7db5",
   "metadata": {},
   "outputs": [],
   "source": []
  }
 ],
 "metadata": {
  "celltoolbar": "Slideshow",
  "kernelspec": {
   "display_name": "Python 3",
   "language": "python",
   "name": "python3"
  },
  "language_info": {
   "codemirror_mode": {
    "name": "ipython",
    "version": 3
   },
   "file_extension": ".py",
   "mimetype": "text/x-python",
   "name": "python",
   "nbconvert_exporter": "python",
   "pygments_lexer": "ipython3",
   "version": "3.10.4"
  }
 },
 "nbformat": 4,
 "nbformat_minor": 5
}
