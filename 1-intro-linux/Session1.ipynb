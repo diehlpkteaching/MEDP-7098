{
 "cells": [
  {
   "cell_type": "markdown",
   "id": "96e958ef",
   "metadata": {
    "slideshow": {
     "slide_type": "slide"
    }
   },
   "source": [
    "# Session I - Introduction to Linux\n",
    "\n",
    "## Topics\n",
    "\n",
    "1. Bash \n",
    "3. Bash commands\n",
    "2. Editing files in the Bash\n",
    "4. Bash programming\n"
   ]
  },
  {
   "cell_type": "markdown",
   "id": "ac481057",
   "metadata": {
    "slideshow": {
     "slide_type": "slide"
    }
   },
   "source": [
    "## Why Linux?\n",
    "\n",
    "Excellent question!\n",
    "\n",
    "Let us have a look at the [Top500](https://www.top500.org/), the list with the fastes supercomputer in the world. \n",
    "\n",
    "Here **none** of the 500 supercomputer runs on Windows or macOS.\n",
    "\n",
    "The [supercomputers](http://www.hpc.lsu.edu/resources/hpc/index.php) at LSU run all on Linux.\n",
    "\n",
    "So if you ant to run large scale simulations, you need to use Linux and Bash to compile your code, move files, and run the simulations!"
   ]
  },
  {
   "cell_type": "markdown",
   "id": "9cc70891",
   "metadata": {
    "slideshow": {
     "slide_type": "slide"
    }
   },
   "source": [
    "## Bash\n",
    "\n",
    "![](bash.png)"
   ]
  },
  {
   "cell_type": "markdown",
   "id": "82c73810",
   "metadata": {
    "slideshow": {
     "slide_type": "subslide"
    }
   },
   "source": [
    "### Definitions\n",
    "\n",
    "*Bash*\n",
    "\n",
    "This is the command language interpreter, which is widely used on various operating systems and a default on most GNU/Linux systems. The name is an acronym for the ‘**B**ourne-**A**gain **SH**ell’.\n",
    "\n",
    "*Shell*\n",
    "\n",
    "This is the macro processort which allows the execution of bash commands.\n",
    "\n",
    "*Scripting*\n",
    "\n",
    "A collection of bash commands which would be executed interactively one-by-one.\n",
    "\n",
    "\n"
   ]
  },
  {
   "cell_type": "markdown",
   "id": "d3ea228d",
   "metadata": {
    "slideshow": {
     "slide_type": "subslide"
    }
   },
   "source": [
    "### Command shells\n",
    "\n",
    "On the operating system, you open a terminal window and inside this window the shell is running. You will type the bash commands there interactively.\n",
    "\n",
    " <img src=\"bash.png\" alt=\"Bash\" style=\"width:500px\"> \n",
    "\n",
    "* [bash](https://en.wikipedia.org/wiki/Bash_(Unix_shell%29): Default on GNU\\Linux and macOS\n",
    "* [fish](https://github.com/fish-shell/fish-shell): Nice features by default, without doing configuration.\n",
    "\n",
    "You can install Windows Subsystem for Linux ([WSL](https://docs.microsoft.com/en-us/windows/wsl/)) on Windows and run a GNU/Linux environment.\n",
    "\n",
    "However, on most of the supercomputers the bash shell is the default. "
   ]
  },
  {
   "cell_type": "markdown",
   "id": "91664eb1",
   "metadata": {
    "slideshow": {
     "slide_type": "slide"
    }
   },
   "source": [
    "## Bash commands"
   ]
  },
  {
   "cell_type": "code",
   "execution_count": 1,
   "id": "71445643",
   "metadata": {
    "slideshow": {
     "slide_type": "fragment"
    }
   },
   "outputs": [
    {
     "name": "stdout",
     "output_type": "stream",
     "text": [
      "Wed May 18 05:39:42 PM CDT 2022\r\n"
     ]
    }
   ],
   "source": [
    "!date"
   ]
  },
  {
   "cell_type": "code",
   "execution_count": 2,
   "id": "bfc4c200",
   "metadata": {
    "slideshow": {
     "slide_type": "fragment"
    }
   },
   "outputs": [
    {
     "name": "stdout",
     "output_type": "stream",
     "text": [
      "      May 2022      \r\n",
      "Su Mo Tu We Th Fr Sa\r\n",
      " 1  2  3  4  5  6  7\r\n",
      " 8  9 10 11 12 13 14\r\n",
      "15 16 17 \u001b[7m18\u001b[m 19 20 21\r\n",
      "22 23 24 25 26 27 28\r\n",
      "29 30 31            \r\n",
      "                    \r\n"
     ]
    }
   ],
   "source": [
    "!cal"
   ]
  },
  {
   "cell_type": "code",
   "execution_count": 3,
   "id": "d572aba7",
   "metadata": {
    "slideshow": {
     "slide_type": "fragment"
    }
   },
   "outputs": [
    {
     "name": "stdout",
     "output_type": "stream",
     "text": [
      "/home/diehlpk/git/courses/MEDP-7098/1-intro-linux\r\n"
     ]
    }
   ],
   "source": [
    "!pwd"
   ]
  },
  {
   "cell_type": "markdown",
   "id": "91951afa",
   "metadata": {
    "slideshow": {
     "slide_type": "slide"
    }
   },
   "source": [
    "### Let us have a look at bash commands\n",
    "\n",
    "First, let us check how many bash commands are on my computer"
   ]
  },
  {
   "cell_type": "code",
   "execution_count": 4,
   "id": "297e0b5c",
   "metadata": {
    "slideshow": {
     "slide_type": "fragment"
    }
   },
   "outputs": [
    {
     "name": "stdout",
     "output_type": "stream",
     "text": [
      "6644\n"
     ]
    }
   ],
   "source": [
    "%%bash \n",
    "\n",
    "compgen -bakc| wc -l"
   ]
  },
  {
   "cell_type": "markdown",
   "id": "cc748b15",
   "metadata": {
    "slideshow": {
     "slide_type": "fragment"
    }
   },
   "source": [
    "Oh, we will not look into over 6000 bash commands today. Better, we stick with a few widely used ones :)"
   ]
  },
  {
   "cell_type": "markdown",
   "id": "e9dd96c3",
   "metadata": {
    "slideshow": {
     "slide_type": "slide"
    }
   },
   "source": [
    "### ls\n",
    "\n",
    "The command `ls` lists the files in the current directory, excluding the hidden files.\n",
    "\n",
    "* `ls -a` lists all the files in the current directory\n",
    "* `ls -l` lists the files, file size, owner, group, and date"
   ]
  },
  {
   "cell_type": "code",
   "execution_count": 5,
   "id": "51d105b0",
   "metadata": {
    "slideshow": {
     "slide_type": "fragment"
    }
   },
   "outputs": [
    {
     "name": "stdout",
     "output_type": "stream",
     "text": [
      "\u001b[0m\u001b[40;31;01mbash.png\u001b[0m@  Session1.ipynb  Session1.slides.html\r\n"
     ]
    }
   ],
   "source": [
    "!ls"
   ]
  },
  {
   "cell_type": "code",
   "execution_count": 6,
   "id": "61cdb230",
   "metadata": {
    "slideshow": {
     "slide_type": "fragment"
    }
   },
   "outputs": [
    {
     "name": "stdout",
     "output_type": "stream",
     "text": [
      "\u001b[0m\u001b[01;34m.\u001b[0m/  \u001b[01;34m..\u001b[0m/  \u001b[40;31;01mbash.png\u001b[0m@  \u001b[01;34m.ipynb_checkpoints\u001b[0m/  Session1.ipynb  Session1.slides.html\r\n"
     ]
    }
   ],
   "source": [
    "!ls -a"
   ]
  },
  {
   "cell_type": "code",
   "execution_count": 7,
   "id": "b82869b1",
   "metadata": {
    "slideshow": {
     "slide_type": "fragment"
    }
   },
   "outputs": [
    {
     "name": "stdout",
     "output_type": "stream",
     "text": [
      "total 588\r\n",
      "lrwxrwxrwx. 1 diehlpk diehlpk     13 May 18 15:26 \u001b[0m\u001b[40;31;01mbash.png\u001b[0m -> \u001b[01;37;41mdocs/bash.png\u001b[0m\r\n",
      "-rw-r--r--. 1 diehlpk diehlpk  17980 May 18 17:38 Session1.ipynb\r\n",
      "-rw-r--r--. 1 diehlpk diehlpk 580133 May 18 12:55 Session1.slides.html\r\n"
     ]
    }
   ],
   "source": [
    "!ls -l"
   ]
  },
  {
   "cell_type": "markdown",
   "id": "451a7260",
   "metadata": {
    "slideshow": {
     "slide_type": "slide"
    }
   },
   "source": [
    "### tree \n",
    "\n",
    "The command `tree` lists all files in the current directory formated as a tree."
   ]
  },
  {
   "cell_type": "code",
   "execution_count": 8,
   "id": "1762a1e4",
   "metadata": {
    "slideshow": {
     "slide_type": "fragment"
    }
   },
   "outputs": [
    {
     "name": "stdout",
     "output_type": "stream",
     "text": [
      "\u001b[01;34m..\u001b[0m\r\n",
      "├── \u001b[01;34m1-intro-linux\u001b[0m\r\n",
      "│   ├── \u001b[40;31;01mbash.png\u001b[0m -> docs/bash.png\r\n",
      "│   ├── Session1.ipynb\r\n",
      "│   └── Session1.slides.html\r\n",
      "├── \u001b[01;34m24-theory-hpc\u001b[0m\r\n",
      "├── \u001b[01;34m25-intro-cluster\u001b[0m\r\n",
      "├── \u001b[01;34m26-intor-hpc-approaches\u001b[0m\r\n",
      "├── \u001b[01;34m2-intro-python\u001b[0m\r\n",
      "├── \u001b[01;34m3-examples-python\u001b[0m\r\n",
      "├── \u001b[01;34m6-intro-cpp\u001b[0m\r\n",
      "├── \u001b[01;34m7-example-cpp\u001b[0m\r\n",
      "├── \u001b[01;34mdocs\u001b[0m\r\n",
      "│   ├── bash.png\r\n",
      "│   ├── index,html\r\n",
      "│   ├── index.html\r\n",
      "│   ├── pandoc.css\r\n",
      "│   └── Session1.slides.html\r\n",
      "├── \u001b[01;32mgenerate.sh\u001b[0m\r\n",
      "├── index.md\r\n",
      "├── LICENSE\r\n",
      "└── README.md\r\n",
      "\r\n",
      "9 directories, 12 files\r\n"
     ]
    }
   ],
   "source": [
    "!tree .."
   ]
  },
  {
   "cell_type": "markdown",
   "id": "99b8fba4",
   "metadata": {
    "slideshow": {
     "slide_type": "slide"
    }
   },
   "source": [
    "### mkdir\n",
    "\n",
    "The command `mkdir` creates a new directory in the current folder."
   ]
  },
  {
   "cell_type": "code",
   "execution_count": 9,
   "id": "ce8fe3ed",
   "metadata": {
    "slideshow": {
     "slide_type": "fragment"
    }
   },
   "outputs": [
    {
     "name": "stdout",
     "output_type": "stream",
     "text": [
      "\u001b[0m\u001b[40;31;01mbash.png\u001b[0m@  Session1.ipynb  Session1.slides.html\r\n"
     ]
    }
   ],
   "source": [
    "!ls"
   ]
  },
  {
   "cell_type": "code",
   "execution_count": 10,
   "id": "db1a5ee0",
   "metadata": {
    "slideshow": {
     "slide_type": "fragment"
    }
   },
   "outputs": [],
   "source": [
    "!mkdir myFolder"
   ]
  },
  {
   "cell_type": "code",
   "execution_count": 11,
   "id": "bbe0fe73",
   "metadata": {
    "slideshow": {
     "slide_type": "fragment"
    }
   },
   "outputs": [
    {
     "name": "stdout",
     "output_type": "stream",
     "text": [
      "\u001b[0m\u001b[40;31;01mbash.png\u001b[0m@  \u001b[01;34mmyFolder\u001b[0m/  Session1.ipynb  Session1.slides.html\r\n"
     ]
    }
   ],
   "source": [
    "!ls"
   ]
  },
  {
   "cell_type": "markdown",
   "id": "85735e49",
   "metadata": {
    "slideshow": {
     "slide_type": "slide"
    }
   },
   "source": [
    "### cd\n",
    "\n",
    "The command `cd` ise used to navigate in the directory tree."
   ]
  },
  {
   "cell_type": "code",
   "execution_count": 12,
   "id": "8ffe21ab",
   "metadata": {
    "slideshow": {
     "slide_type": "fragment"
    }
   },
   "outputs": [
    {
     "name": "stdout",
     "output_type": "stream",
     "text": [
      "\u001b[0m\u001b[40;31;01mbash.png\u001b[0m@  \u001b[01;34mmyFolder\u001b[0m/  Session1.ipynb  Session1.slides.html\r\n"
     ]
    }
   ],
   "source": [
    "!ls "
   ]
  },
  {
   "cell_type": "code",
   "execution_count": 13,
   "id": "aa274b90",
   "metadata": {
    "slideshow": {
     "slide_type": "fragment"
    }
   },
   "outputs": [
    {
     "name": "stdout",
     "output_type": "stream",
     "text": [
      "/home/diehlpk/git/courses/MEDP-7098/1-intro-linux/myFolder\n"
     ]
    }
   ],
   "source": [
    "cd myFolder"
   ]
  },
  {
   "cell_type": "markdown",
   "id": "c29b91dc",
   "metadata": {
    "slideshow": {
     "slide_type": "slide"
    }
   },
   "source": [
    "### touch\n",
    "\n",
    "The command `touch` creates new empty files or update the timestamp on existing files\n",
    "\n",
    "* `touch -c newfile.txt` Will update the timestamp, if the file exists\n",
    "* `touch -a newfile.txt` Will update the access timestamp\n",
    "* `touch -m newfile.txt` Will update the modified timestamp"
   ]
  },
  {
   "cell_type": "code",
   "execution_count": 14,
   "id": "bffe0bac",
   "metadata": {
    "slideshow": {
     "slide_type": "fragment"
    }
   },
   "outputs": [
    {
     "name": "stdout",
     "output_type": "stream",
     "text": [
      "\u001b[0m\u001b[01;34m.\u001b[0m/  \u001b[01;34m..\u001b[0m/\r\n"
     ]
    }
   ],
   "source": [
    "!ls -a"
   ]
  },
  {
   "cell_type": "code",
   "execution_count": 15,
   "id": "e8ff3499",
   "metadata": {
    "slideshow": {
     "slide_type": "fragment"
    }
   },
   "outputs": [],
   "source": [
    "!touch newfile.txt"
   ]
  },
  {
   "cell_type": "code",
   "execution_count": 16,
   "id": "26078d13",
   "metadata": {
    "slideshow": {
     "slide_type": "fragment"
    }
   },
   "outputs": [
    {
     "name": "stdout",
     "output_type": "stream",
     "text": [
      "newfile.txt\r\n"
     ]
    }
   ],
   "source": [
    "!ls "
   ]
  },
  {
   "cell_type": "markdown",
   "id": "1650beb8",
   "metadata": {
    "slideshow": {
     "slide_type": "slide"
    }
   },
   "source": [
    "## cd\n",
    "\n",
    "The command `cd` is used to change the directory and navigate in the directory tree structure\n",
    "\n",
    "* `cd ..` navigates to the parent directory of the current one\n",
    "* `cd ~` navigates to the user's home directory"
   ]
  },
  {
   "cell_type": "code",
   "execution_count": 17,
   "id": "b57c3045",
   "metadata": {
    "slideshow": {
     "slide_type": "fragment"
    }
   },
   "outputs": [
    {
     "name": "stdout",
     "output_type": "stream",
     "text": [
      "newfile.txt\r\n"
     ]
    }
   ],
   "source": [
    "!ls "
   ]
  },
  {
   "cell_type": "code",
   "execution_count": 18,
   "id": "5825364c",
   "metadata": {
    "slideshow": {
     "slide_type": "fragment"
    }
   },
   "outputs": [
    {
     "name": "stdout",
     "output_type": "stream",
     "text": [
      "bash.png\n",
      "myFolder\n",
      "Session1.ipynb\n",
      "Session1.slides.html\n"
     ]
    }
   ],
   "source": [
    "%%bash\n",
    "cd ../\n",
    "ls"
   ]
  },
  {
   "cell_type": "markdown",
   "id": "2f72265f",
   "metadata": {
    "slideshow": {
     "slide_type": "slide"
    }
   },
   "source": [
    "### rm\n",
    "\n",
    "The command `rm` is used to delete files and directories\n",
    "\n",
    "* `rm` is used to delete files\n",
    "* `rm -r` is used to delete directories"
   ]
  },
  {
   "cell_type": "code",
   "execution_count": 19,
   "id": "1a3f4ebe",
   "metadata": {
    "slideshow": {
     "slide_type": "fragment"
    }
   },
   "outputs": [
    {
     "name": "stdout",
     "output_type": "stream",
     "text": [
      "\u001b[0m\u001b[01;34m.\u001b[0m/  \u001b[01;34m..\u001b[0m/  newfile.txt\r\n"
     ]
    }
   ],
   "source": [
    "!ls -a"
   ]
  },
  {
   "cell_type": "code",
   "execution_count": 20,
   "id": "b308cf93",
   "metadata": {
    "slideshow": {
     "slide_type": "fragment"
    }
   },
   "outputs": [],
   "source": [
    "!rm newfile.txt"
   ]
  },
  {
   "cell_type": "code",
   "execution_count": 21,
   "id": "d800bf09",
   "metadata": {
    "slideshow": {
     "slide_type": "fragment"
    }
   },
   "outputs": [
    {
     "name": "stdout",
     "output_type": "stream",
     "text": [
      "\u001b[0m\u001b[01;34m.\u001b[0m/  \u001b[01;34m..\u001b[0m/\r\n"
     ]
    }
   ],
   "source": [
    "!ls -a"
   ]
  },
  {
   "cell_type": "markdown",
   "id": "7804c09e",
   "metadata": {
    "slideshow": {
     "slide_type": "subslide"
    }
   },
   "source": [
    "#### Delete a directory"
   ]
  },
  {
   "cell_type": "code",
   "execution_count": 22,
   "id": "42eaf135",
   "metadata": {
    "slideshow": {
     "slide_type": "fragment"
    }
   },
   "outputs": [
    {
     "name": "stdout",
     "output_type": "stream",
     "text": [
      "bash.png\n",
      "myFolder\n",
      "Session1.ipynb\n",
      "Session1.slides.html\n",
      "-----\n",
      "bash.png\n",
      "Session1.ipynb\n",
      "Session1.slides.html\n"
     ]
    }
   ],
   "source": [
    "%%bash\n",
    "cd ..\n",
    "ls \n",
    "echo \"-----\"\n",
    "rm -r myFolder\n",
    "ls"
   ]
  },
  {
   "cell_type": "markdown",
   "id": "6c50650e",
   "metadata": {
    "slideshow": {
     "slide_type": "slide"
    }
   },
   "source": [
    "### cp\n",
    "\n"
   ]
  },
  {
   "cell_type": "markdown",
   "id": "12864595",
   "metadata": {
    "slideshow": {
     "slide_type": "slide"
    }
   },
   "source": [
    "### mv"
   ]
  },
  {
   "cell_type": "markdown",
   "id": "3f753b14",
   "metadata": {
    "slideshow": {
     "slide_type": "slide"
    }
   },
   "source": [
    "### cat"
   ]
  },
  {
   "cell_type": "markdown",
   "id": "1cfd04cf",
   "metadata": {
    "slideshow": {
     "slide_type": "slide"
    }
   },
   "source": [
    "### head"
   ]
  },
  {
   "cell_type": "markdown",
   "id": "3799c423",
   "metadata": {
    "slideshow": {
     "slide_type": "slide"
    }
   },
   "source": [
    "### tail"
   ]
  },
  {
   "cell_type": "markdown",
   "id": "d7f50618",
   "metadata": {
    "slideshow": {
     "slide_type": "slide"
    }
   },
   "source": [
    "### grep"
   ]
  },
  {
   "cell_type": "markdown",
   "id": "e03f84fa",
   "metadata": {
    "slideshow": {
     "slide_type": "slide"
    }
   },
   "source": [
    "### wget"
   ]
  },
  {
   "cell_type": "markdown",
   "id": "1c8c68b3",
   "metadata": {
    "slideshow": {
     "slide_type": "slide"
    }
   },
   "source": [
    "### which"
   ]
  },
  {
   "cell_type": "markdown",
   "id": "95bc0ef1",
   "metadata": {
    "slideshow": {
     "slide_type": "slide"
    }
   },
   "source": [
    "### history"
   ]
  },
  {
   "cell_type": "markdown",
   "id": "6130fde7",
   "metadata": {
    "slideshow": {
     "slide_type": "slide"
    }
   },
   "source": [
    "### man"
   ]
  }
 ],
 "metadata": {
  "celltoolbar": "Slideshow",
  "kernelspec": {
   "display_name": "Python 3",
   "language": "python",
   "name": "python3"
  },
  "language_info": {
   "codemirror_mode": {
    "name": "ipython",
    "version": 3
   },
   "file_extension": ".py",
   "mimetype": "text/x-python",
   "name": "python",
   "nbconvert_exporter": "python",
   "pygments_lexer": "ipython3",
   "version": "3.10.4"
  }
 },
 "nbformat": 4,
 "nbformat_minor": 5
}
