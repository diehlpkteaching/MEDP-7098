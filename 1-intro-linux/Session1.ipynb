{
 "cells": [
  {
   "cell_type": "markdown",
   "id": "96e958ef",
   "metadata": {
    "slideshow": {
     "slide_type": "slide"
    }
   },
   "source": [
    "# Session I - Introduction to Linux\n",
    "\n",
    "## Topics\n",
    "\n",
    "1. Bash \n",
    "2. Editing files in the Bash\n",
    "3. Bash commands\n",
    "4. Bash programming\n"
   ]
  },
  {
   "cell_type": "markdown",
   "id": "ac481057",
   "metadata": {
    "slideshow": {
     "slide_type": "slide"
    }
   },
   "source": [
    "## Why Linux?"
   ]
  },
  {
   "cell_type": "code",
   "execution_count": null,
   "id": "36a37f35",
   "metadata": {},
   "outputs": [],
   "source": []
  }
 ],
 "metadata": {
  "celltoolbar": "Slideshow",
  "kernelspec": {
   "display_name": "Python 3",
   "language": "python",
   "name": "python3"
  },
  "language_info": {
   "codemirror_mode": {
    "name": "ipython",
    "version": 3
   },
   "file_extension": ".py",
   "mimetype": "text/x-python",
   "name": "python",
   "nbconvert_exporter": "python",
   "pygments_lexer": "ipython3",
   "version": "3.10.4"
  }
 },
 "nbformat": 4,
 "nbformat_minor": 5
}
