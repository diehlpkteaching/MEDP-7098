{
 "cells": [
  {
   "cell_type": "markdown",
   "id": "96e958ef",
   "metadata": {
    "slideshow": {
     "slide_type": "slide"
    }
   },
   "source": [
    "# Session I - Introduction to Linux\n",
    "\n",
    "## Topics\n",
    "\n",
    "1. Bash \n",
    "3. Bash commands\n",
    "2. Editing files in the Bash\n",
    "4. Bash programming\n"
   ]
  },
  {
   "cell_type": "markdown",
   "id": "ac481057",
   "metadata": {
    "slideshow": {
     "slide_type": "slide"
    }
   },
   "source": [
    "## Why Linux?\n",
    "\n",
    "Excellent question!\n",
    "\n",
    "Let us have a look at the [Top500](https://www.top500.org/), the list with the fastes supercomputer in the world. \n",
    "\n",
    "Here **none** of the 500 supercomputer runs on Windows or macOS.\n",
    "\n",
    "The [supercomputers](http://www.hpc.lsu.edu/resources/hpc/index.php) at LSU run all on Linux.\n",
    "\n",
    "So if you ant to run large scale simulations, you need to use Linux and Bash to compile your code, move files, and run the simulations!"
   ]
  },
  {
   "cell_type": "markdown",
   "id": "9cc70891",
   "metadata": {
    "slideshow": {
     "slide_type": "slide"
    }
   },
   "source": [
    "## Bash\n",
    "\n",
    "![](bash.png)"
   ]
  },
  {
   "cell_type": "markdown",
   "id": "82c73810",
   "metadata": {
    "slideshow": {
     "slide_type": "subslide"
    }
   },
   "source": [
    "### Definitions\n",
    "\n",
    "*Bash*\n",
    "\n",
    "This is the command language interpreter, which is widely used on various operating systems and a default on most GNU/Linux systems. The name is an acronym for the ‘**B**ourne-**A**gain **SH**ell’.\n",
    "\n",
    "*Shell*\n",
    "\n",
    "This is the macro processort which allows the execution of bash commands.\n",
    "\n",
    "*Scripting*\n",
    "\n",
    "A collection of bash commands which would be executed interactively one-by-one.\n",
    "\n",
    "\n"
   ]
  },
  {
   "cell_type": "markdown",
   "id": "d3ea228d",
   "metadata": {
    "slideshow": {
     "slide_type": "subslide"
    }
   },
   "source": [
    "### Command shells\n",
    "\n",
    "On the operating system, you open a terminal window and inside this window the shell is running. You will type the bash commands there interactively.\n",
    "\n",
    " <img src=\"bash.png\" alt=\"Bash\" style=\"width:500px\"> \n",
    "\n",
    "* [bash](https://en.wikipedia.org/wiki/Bash_(Unix_shell%29): Default on GNU\\Linux and macOS\n",
    "* [fish](https://github.com/fish-shell/fish-shell): Nice features by default, without doing configuration.\n",
    "\n",
    "You can install Windows Subsystem for Linux ([WSL](https://docs.microsoft.com/en-us/windows/wsl/)) on Windows and run a GNU/Linux environment.\n",
    "\n",
    "However, on most of the supercomputers the bash shell is the default. "
   ]
  },
  {
   "cell_type": "markdown",
   "id": "91664eb1",
   "metadata": {
    "slideshow": {
     "slide_type": "slide"
    }
   },
   "source": [
    "## Bash commands"
   ]
  },
  {
   "cell_type": "code",
   "execution_count": 8,
   "id": "71445643",
   "metadata": {
    "slideshow": {
     "slide_type": "subslide"
    }
   },
   "outputs": [
    {
     "name": "stdout",
     "output_type": "stream",
     "text": [
      "Wed May 18 04:05:36 PM CDT 2022\r\n"
     ]
    }
   ],
   "source": [
    "!date"
   ]
  },
  {
   "cell_type": "code",
   "execution_count": 9,
   "id": "bfc4c200",
   "metadata": {
    "slideshow": {
     "slide_type": "subslide"
    }
   },
   "outputs": [
    {
     "name": "stdout",
     "output_type": "stream",
     "text": [
      "      May 2022      \r\n",
      "Su Mo Tu We Th Fr Sa\r\n",
      " 1  2  3  4  5  6  7\r\n",
      " 8  9 10 11 12 13 14\r\n",
      "15 16 17 \u001b[7m18\u001b[m 19 20 21\r\n",
      "22 23 24 25 26 27 28\r\n",
      "29 30 31            \r\n",
      "                    \r\n"
     ]
    }
   ],
   "source": [
    "!cal"
   ]
  },
  {
   "cell_type": "code",
   "execution_count": 10,
   "id": "d572aba7",
   "metadata": {
    "slideshow": {
     "slide_type": "subslide"
    }
   },
   "outputs": [
    {
     "name": "stdout",
     "output_type": "stream",
     "text": [
      "/home/diehlpk/git/courses/MEDP-7098/1-intro-linux\r\n"
     ]
    }
   ],
   "source": [
    "!pwd"
   ]
  },
  {
   "cell_type": "markdown",
   "id": "91951afa",
   "metadata": {
    "slideshow": {
     "slide_type": "slide"
    }
   },
   "source": [
    "### Let us have a look at bash commands\n",
    "\n",
    "First, let us check how many bash commands are on my computer"
   ]
  },
  {
   "cell_type": "code",
   "execution_count": 16,
   "id": "297e0b5c",
   "metadata": {
    "slideshow": {
     "slide_type": "fragment"
    }
   },
   "outputs": [
    {
     "name": "stdout",
     "output_type": "stream",
     "text": [
      "6644\n"
     ]
    }
   ],
   "source": [
    "%%bash \n",
    "\n",
    "compgen -bakc| wc -l"
   ]
  },
  {
   "cell_type": "markdown",
   "id": "cc748b15",
   "metadata": {
    "slideshow": {
     "slide_type": "fragment"
    }
   },
   "source": [
    "Oh, we will not look into over 6000 bash commands today. Better, we stick with the 16 widely used ones :)"
   ]
  },
  {
   "cell_type": "markdown",
   "id": "e9dd96c3",
   "metadata": {
    "slideshow": {
     "slide_type": "slide"
    }
   },
   "source": [
    "### ls\n",
    "\n",
    "The command `ls` lists the files in the current directory, excluding the hidden files.\n",
    "\n",
    "* `ls -a` lists all the files in the current directory\n",
    "* `ls -l` lists the files, file size, owner, group, and date"
   ]
  },
  {
   "cell_type": "code",
   "execution_count": 25,
   "id": "51d105b0",
   "metadata": {
    "slideshow": {
     "slide_type": "fragment"
    }
   },
   "outputs": [
    {
     "name": "stdout",
     "output_type": "stream",
     "text": [
      "\u001b[0m\u001b[40;31;01mbash.png\u001b[0m@  Session1.ipynb  Session1.slides.html\r\n"
     ]
    }
   ],
   "source": [
    "!ls"
   ]
  },
  {
   "cell_type": "code",
   "execution_count": 26,
   "id": "61cdb230",
   "metadata": {
    "slideshow": {
     "slide_type": "fragment"
    }
   },
   "outputs": [
    {
     "name": "stdout",
     "output_type": "stream",
     "text": [
      "\u001b[0m\u001b[01;34m.\u001b[0m/  \u001b[01;34m..\u001b[0m/  \u001b[40;31;01mbash.png\u001b[0m@  \u001b[01;34m.ipynb_checkpoints\u001b[0m/  Session1.ipynb  Session1.slides.html\r\n"
     ]
    }
   ],
   "source": [
    "!ls -a"
   ]
  },
  {
   "cell_type": "code",
   "execution_count": 27,
   "id": "b82869b1",
   "metadata": {
    "slideshow": {
     "slide_type": "fragment"
    }
   },
   "outputs": [
    {
     "name": "stdout",
     "output_type": "stream",
     "text": [
      "total 576\r\n",
      "lrwxrwxrwx. 1 diehlpk diehlpk     13 May 18 15:26 \u001b[0m\u001b[40;31;01mbash.png\u001b[0m -> \u001b[01;37;41mdocs/bash.png\u001b[0m\r\n",
      "-rw-r--r--. 1 diehlpk diehlpk   7712 May 18 16:26 Session1.ipynb\r\n",
      "-rw-r--r--. 1 diehlpk diehlpk 580133 May 18 12:55 Session1.slides.html\r\n"
     ]
    }
   ],
   "source": [
    "!ls -l"
   ]
  },
  {
   "cell_type": "markdown",
   "id": "451a7260",
   "metadata": {
    "slideshow": {
     "slide_type": "slide"
    }
   },
   "source": [
    "### tree \n",
    "\n",
    "The command `tree` lists all files in the current directory formated as a tree."
   ]
  },
  {
   "cell_type": "code",
   "execution_count": 33,
   "id": "1762a1e4",
   "metadata": {
    "slideshow": {
     "slide_type": "fragment"
    }
   },
   "outputs": [
    {
     "name": "stdout",
     "output_type": "stream",
     "text": [
      "\u001b[01;34m..\u001b[0m\r\n",
      "├── \u001b[01;34m1-intro-linux\u001b[0m\r\n",
      "│   ├── \u001b[40;31;01mbash.png\u001b[0m -> docs/bash.png\r\n",
      "│   ├── Session1.ipynb\r\n",
      "│   └── Session1.slides.html\r\n",
      "├── \u001b[01;34m24-theory-hpc\u001b[0m\r\n",
      "├── \u001b[01;34m25-intro-cluster\u001b[0m\r\n",
      "├── \u001b[01;34m26-intor-hpc-approaches\u001b[0m\r\n",
      "├── \u001b[01;34m2-intro-python\u001b[0m\r\n",
      "├── \u001b[01;34m3-examples-python\u001b[0m\r\n",
      "├── \u001b[01;34m6-intro-cpp\u001b[0m\r\n",
      "├── \u001b[01;34m7-example-cpp\u001b[0m\r\n",
      "├── \u001b[01;34mdocs\u001b[0m\r\n",
      "│   ├── bash.png\r\n",
      "│   ├── index,html\r\n",
      "│   ├── index.html\r\n",
      "│   ├── pandoc.css\r\n",
      "│   └── Session1.slides.html\r\n",
      "├── \u001b[01;32mgenerate.sh\u001b[0m\r\n",
      "├── index.md\r\n",
      "├── LICENSE\r\n",
      "└── README.md\r\n",
      "\r\n",
      "9 directories, 12 files\r\n"
     ]
    }
   ],
   "source": [
    "!tree .."
   ]
  }
 ],
 "metadata": {
  "celltoolbar": "Slideshow",
  "kernelspec": {
   "display_name": "Python 3",
   "language": "python",
   "name": "python3"
  },
  "language_info": {
   "codemirror_mode": {
    "name": "ipython",
    "version": 3
   },
   "file_extension": ".py",
   "mimetype": "text/x-python",
   "name": "python",
   "nbconvert_exporter": "python",
   "pygments_lexer": "ipython3",
   "version": "3.10.4"
  }
 },
 "nbformat": 4,
 "nbformat_minor": 5
}
