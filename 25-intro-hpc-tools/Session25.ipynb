{
 "cells": [
  {
   "cell_type": "markdown",
   "id": "aac66a6c",
   "metadata": {
    "slideshow": {
     "slide_type": "slide"
    }
   },
   "source": [
    "# Introduction to HPC clusters\n",
    "\n",
    "* ssh to connect to the cluster\n",
    "* scp to copy data from and to the cluster\n",
    "* module files to load software\n",
    "* CMake to build code and libraries\n",
    "* slurm to start jobs"
   ]
  },
  {
   "cell_type": "markdown",
   "id": "2e0c6f56",
   "metadata": {
    "slideshow": {
     "slide_type": "slide"
    }
   },
   "source": [
    "## Secure Shell or SSH \n",
    "\n",
    "We use the command `ssh` to connect to the login nodes of the cluster using the internet. After the authentication, we will get a bash on the cluster.\n",
    "\n",
    "* ssh user@cluster\n",
    "    * user is your username on the cluster and not the one on your local device\n",
    "    * cluster is the URL to the cluster\n"
   ]
  },
  {
   "cell_type": "markdown",
   "id": "bec2c871",
   "metadata": {
    "slideshow": {
     "slide_type": "fragment"
    }
   },
   "source": [
    "```bash\n",
    "diehlpk@Patricks-Air ~/g/reusummer22 (main)> ssh rostam\n",
    "Enter passphrase for key '/Users/diehlpk/.ssh/id_rsa_lm2':\n",
    "```"
   ]
  },
  {
   "cell_type": "markdown",
   "id": "c79bafef",
   "metadata": {
    "slideshow": {
     "slide_type": "slide"
    }
   },
   "source": [
    "### ssh keys\n",
    "\n",
    "On modern clusters password authentication is not used any more due to less security. Instead ssh keys are used.  \n",
    "We use the command `ssh-kyegen` to generate two keys:\n",
    "\n",
    "* Public key to share with the cluster administrators\n",
    "* Private key for your own usage. You need this private key instead of the password to connect to the login node."
   ]
  },
  {
   "cell_type": "markdown",
   "id": "5339b561",
   "metadata": {
    "slideshow": {
     "slide_type": "fragment"
    }
   },
   "source": [
    "```bash\n",
    "ssh-keygen -t ed25519 -C \"your_email@example.com\"\n",
    "```"
   ]
  },
  {
   "cell_type": "markdown",
   "id": "1cf27872",
   "metadata": {
    "slideshow": {
     "slide_type": "slide"
    }
   },
   "source": [
    "## Secure file copy or scp\n",
    "\n",
    "To copy files from or to the cluster, we use the command `scp` which is like \n",
    "the `cp` command, but we can copy data over the network or internet.\n",
    "\n",
    "### Copy data from your local computer to the cluster\n",
    "\n",
    "```bash\n",
    "scp data.csv rostam:\n",
    "```\n",
    "\n",
    "### Copy data from your the cluster to your local computer\n",
    "\n",
    "```bash\n",
    "scp rostam:data_clecius.csv ./\n",
    "```\n",
    "\n",
    "\n"
   ]
  },
  {
   "cell_type": "markdown",
   "id": "c04a7e4a",
   "metadata": {
    "slideshow": {
     "slide_type": "slide"
    }
   },
   "source": [
    "## Module files to load software or change compilers\n",
    "\n",
    "On most clusters the command `module` is used to change software versions or compilers. \n",
    "\n",
    "### Showing the currently loaded items\n",
    "\n",
    "```bash\n",
    "[diehlpk@rostam1 ~]$ module list\n",
    "\n",
    "Currently Loaded Modules:\n",
    "  1) gcc/11.2.0   2) boost/1.78.0-release   3) papi/6.0.0   4) git/2.34.1   5) python/3.10.0\n",
    "```"
   ]
  },
  {
   "cell_type": "markdown",
   "id": "7178e9b2",
   "metadata": {
    "slideshow": {
     "slide_type": "slide"
    }
   },
   "source": [
    "### Showing the available items\n",
    "\n",
    "```bash\n",
    "module avail\n",
    "-------------------------------------------------------------------------- /opt/apps/gcc11/modulefiles \n",
    "   boost/1.76.0-debug      boost/1.77.0-debug      boost/1.78.0-debug            \n",
    "   boost/1.76.0-release    mpich/3.4.2         openmpi/4.1.2\n",
    "```\n",
    "\n",
    "### Showing all available versions for one module\n",
    "\n",
    "```bash\n",
    "module avail cuda\n",
    "\n",
    "----------------------------------------------------------------------------- /opt/apps/modulefiles\n",
    "   cuda/10.2 (g)    cuda/11.2 (g)    cuda/11.4 (g)    cuda/11.5 (g)    cuda/11.6 (g,D)\n",
    "```"
   ]
  },
  {
   "cell_type": "markdown",
   "id": "05521e7e",
   "metadata": {
    "slideshow": {
     "slide_type": "slide"
    }
   },
   "source": [
    "### Loading a module\n",
    "\n",
    "```bash\n",
    "[diehlpk@rostam1 ~]$ module load cuda/11.6\n",
    "[diehlpk@rostam1 ~]$ module list\n",
    "\n",
    "Currently Loaded Modules:\n",
    "  1) gcc/11.2.0             3) papi/6.0.0   5) python/3.10.0   7) ucx/1.12.1   9) hwloc/2.6.0  11) cuda/11.6 (g)\n",
    "  2) boost/1.78.0-release   4) git/2.34.1   6) cmake/3.22.0    8) pmix/4.1.0  10) Rostam2\n",
    "```\n",
    "\n",
    "### Unloading a module\n",
    "\n",
    "```bash\n",
    "module unload cuda\n",
    "```"
   ]
  },
  {
   "cell_type": "markdown",
   "id": "85212be1",
   "metadata": {
    "slideshow": {
     "slide_type": "slide"
    }
   },
   "source": [
    "## CMake to build libraries or software\n",
    "\n",
    "[CMake](https://cmake.org/) is an open-source, cross-platform family of tools designed to build, test and package software. CMake is used to control the software compilation process using simple platform and compiler independent configuration files, and generate native makefiles and workspace that can be used in the compiler environment of your choice. \n",
    "\n",
    "* CMake is used by 55% of open source projects as the build system. \n",
    "* Many academic codes use CMake to be build, e.g. lammps, gromacs, astrophysics code, ..."
   ]
  },
  {
   "cell_type": "markdown",
   "id": "7954057f",
   "metadata": {
    "slideshow": {
     "slide_type": "slide"
    }
   },
   "source": [
    "### Building existing projects\n",
    "\n",
    "```bash\n",
    "git clone https://github.com/ModernCPPBook/Examples.git\n",
    "cd Examples\n",
    "mkdir build\n",
    "cd build\n",
    "cmake ..\n",
    "make\n",
    "```"
   ]
  },
  {
   "cell_type": "markdown",
   "id": "50d6dc5a",
   "metadata": {
    "slideshow": {
     "slide_type": "slide"
    }
   },
   "source": [
    "### Generating your own project\n",
    "\n",
    "In the root folder of your project, we need to provide the file `CMakeLists.txt` with the build instructions.\n",
    "\n",
    "Here, is one example to build the `example.cpp` from the C++ lecture:\n",
    "\n",
    "```cmake\n",
    "project(regression)\n",
    "cmake_minimum_required(VERSION 3.0)\n",
    "\n",
    "set (CMAKE_CXX_STANDARD 17)\n",
    "add_executable(regression example.cpp)\n",
    "```"
   ]
  },
  {
   "cell_type": "markdown",
   "id": "302a45d9",
   "metadata": {
    "slideshow": {
     "slide_type": "slide"
    }
   },
   "source": [
    "## Running jobs on clusters\n",
    "\n",
    "A common work load manager for clusters is Simple Linux Utility for Resource Management or slurm. Slurm distributes the jobs from users equally and fair so all users of the resources get some share of the computational time. Depending on the cluster there are other options, however, the LSU clusters use slurm. Therefore, we will look into this tool. \n",
    "\n",
    "Terminology: \n",
    "\n",
    "* Job: A file submitted by the user with some information, e.g. time, memory usage, amount of nodes.\n",
    "* Node: One computer within the cluster. The largest cluster has 178k nodes.\n",
    "* Queue: Wait list where to submit jobs\n",
    "* Accounting: Amount of node hours a user got with the allocation."
   ]
  },
  {
   "cell_type": "markdown",
   "id": "c7b4ef7c",
   "metadata": {
    "slideshow": {
     "slide_type": "slide"
    }
   },
   "source": [
    "### Checking queue information\n",
    "\n",
    "The command `sinfo` gives us information about the available queues where we can submit jobs\n",
    "\n",
    "```bash\n",
    "[diehlpk@rostam1 build]$ sinfo\n",
    "PARTITION       AVAIL  TIMELIMIT  NODES  STATE NODELIST\n",
    "medusa*            up 3-00:00:00      1  down$ medusa15\n",
    "medusa*            up 3-00:00:00     15   idle medusa[00-14]\n",
    "buran              up 3-00:00:00     16   idle buran[00-15]\n",
    "cuda               up 3-00:00:00      2  maint toranj[0-1]\n",
    "cuda               up 3-00:00:00      3   idle bahram,diablo,geev\n",
    "cuda-V100          up 3-00:00:00      2   idle diablo,geev\n",
    "cuda-A100          up 3-00:00:00      2  maint toranj[0-1]\n",
    "cuda-K80           up 3-00:00:00      1   idle bahram\n",
    "```\n",
    "\n"
   ]
  },
  {
   "cell_type": "markdown",
   "id": "bed2f44a",
   "metadata": {
    "slideshow": {
     "slide_type": "slide"
    }
   },
   "source": [
    "### Checking job status\n",
    "\n",
    "The command `squeue` is used to check the submitted jobs on the cluster.\n",
    "\n",
    "```bash\n",
    "[diehlpk@rostam1 build]$ squeue \n",
    "             JOBID PARTITION     NAME     USER ST       TIME  NODES NODELIST(REASON)\n",
    "             25853 cuda-A100 Octo-Tig  jenkins PD       0:00      1 (ReqNodeNotAvail)\n",
    "             25758 jenkins-a jenkins-  jenkins PD       0:00      1 (Resources)\n",
    "             25766 jenkins-a jenkins-  jenkins PD       0:00      1 (Priority)\n",
    "             25777 jenkins-a jenkins-  jenkins PD       0:00      1 (Priority)\n",
    "             25785 jenkins-a jenkins-  jenkins PD       0:00      1 (Priority)\n",
    "             25796 jenkins-a jenkins-  jenkins PD       0:00      1 (Priority)\n",
    "```"
   ]
  },
  {
   "cell_type": "markdown",
   "id": "9a16f10c",
   "metadata": {
    "slideshow": {
     "slide_type": "slide"
    }
   },
   "source": [
    "### Checking the job status of your own jobs\n",
    "\n",
    "\n",
    "```bash\n",
    "[diehlpk@rostam1 build]$ squeue -u $USER\n",
    "             JOBID PARTITION     NAME     USER ST       TIME  NODES NODELIST(REASON)\n",
    "             24932    marvin void.sba  diehlpk  R 6-02:12:23      1 marvin01\n",
    "             24933    marvin circle.s  diehlpk  R 6-02:08:11      1 marvin00\n",
    "```"
   ]
  },
  {
   "cell_type": "markdown",
   "id": "83249192",
   "metadata": {
    "slideshow": {
     "slide_type": "slide"
    }
   },
   "source": [
    "### Canceling a job\n",
    "\n",
    "Checking for the `JOBID` which is used to cancel the running or pending job:\n",
    "```bash\n",
    "[diehlpk@rostam1 build]$ squeue -u $USER\n",
    "             JOBID PARTITION     NAME     USER ST       TIME  NODES NODELIST(REASON)\n",
    "             24932    marvin void.sba  diehlpk  R 6-02:12:23      1 marvin01\n",
    "             24933    marvin circle.s  diehlpk  R 6-02:08:11      1 marvin00\n",
    "```\n",
    "\n",
    "Now we can cancel the job by using the command `scancel`\n",
    "\n",
    "```bash\n",
    "scancel 24932\n",
    "```"
   ]
  },
  {
   "cell_type": "markdown",
   "id": "19ece52e",
   "metadata": {},
   "source": [
    "### Submitting an interactive job\n",
    "\n",
    "For debugging purposed, we want to get access to the terminal of a node and run our code there or use bash commands.\n",
    "\n",
    "Here, we use the command `srun` to access the terminal \n",
    "\n",
    "```bash\n",
    "srun -p medusa -N 1 --pty /bin/bash -l\n",
    "srun: job 25857 queued and waiting for resources\n",
    "srun: job 25857 has been allocated resources\n",
    "[diehlpk@medusa00 build]$ hostname\n",
    "medusa00.*.lsu.edu\n",
    "exit\n",
    "```"
   ]
  },
  {
   "cell_type": "markdown",
   "id": "521f1b80",
   "metadata": {
    "slideshow": {
     "slide_type": "slide"
    }
   },
   "source": [
    "### Submitting a long running job\n",
    "\n",
    "We need to generate a file `regression.sh` which is a bash script, but has additional commands for the usage \n",
    "of resources. In this case, I want to use one (-N 1) medusa (-p mudusa) for 72 hours to run my simulation code.\n",
    "\n",
    "```bash\n",
    "#!/usr/bin/env bash\n",
    "#SBATCH -o fine-1.out\n",
    "#SBATCH -e fine-1.err\n",
    "#SBATCH -t 72:00:00\n",
    "#SBATCH -p medusa\n",
    "#SBATCH -N 1\n",
    "#SBATCH --mail-user=pdiehl@cct.lsu.edu\n",
    "#SBATCH -D /home/diehlpk/Simulations/PUM2/rectcrack\n",
    "```"
   ]
  },
  {
   "cell_type": "markdown",
   "id": "e3987d4a",
   "metadata": {
    "slideshow": {
     "slide_type": "slide"
    }
   },
   "source": [
    "Below the configuration, all modules used during compilation are loaded. After that all bash commands can be used and lastly the application is executed using the command `srun`.\n",
    "\n",
    "```bash\n",
    "module load hpx vtk \n",
    "i=4\n",
    "\n",
    "srun PeriHPX -i input-delta-${i}-98.yaml > log${i}-98.txt\n",
    "```\n",
    "\n",
    "To submit the jon to the `medusa` queue, the command `sbatch` is used.\n",
    "\n",
    "```bash\n",
    "sbatch regression.sh\n",
    "```"
   ]
  }
 ],
 "metadata": {
  "celltoolbar": "Slideshow",
  "kernelspec": {
   "display_name": "Python 3",
   "language": "python",
   "name": "python3"
  },
  "language_info": {
   "codemirror_mode": {
    "name": "ipython",
    "version": 3
   },
   "file_extension": ".py",
   "mimetype": "text/x-python",
   "name": "python",
   "nbconvert_exporter": "python",
   "pygments_lexer": "ipython3",
   "version": "3.9.13"
  }
 },
 "nbformat": 4,
 "nbformat_minor": 5
}
