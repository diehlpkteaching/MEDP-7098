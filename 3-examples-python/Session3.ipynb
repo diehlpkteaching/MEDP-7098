{
 "cells": [
  {
   "cell_type": "code",
   "execution_count": 1,
   "id": "12e6d178",
   "metadata": {
    "slideshow": {
     "slide_type": "skip"
    }
   },
   "outputs": [],
   "source": [
    "%load_ext tikzmagic"
   ]
  },
  {
   "cell_type": "markdown",
   "id": "b05ffbc8",
   "metadata": {
    "slideshow": {
     "slide_type": "slide"
    }
   },
   "source": [
    "# Session 3: Practical programming in Python\n",
    "\n",
    "* Converting values in a CSV file\n",
    "* Monte Carlo methods\n",
    "* Finite difference methods\n"
   ]
  },
  {
   "cell_type": "markdown",
   "id": "79e8c57a",
   "metadata": {
    "slideshow": {
     "slide_type": "slide"
    }
   },
   "source": [
    "We want to read the row `temperature` and convert the temperature from Fahrenheit to Celcius.\n",
    "\n",
    "\n",
    "We can use the following equation to convert the temperature \n",
    "\n",
    "$$ T_c = ( T_F - 32 ) \\cdot \\frac{5}{9}.$$\n",
    "\n",
    "The file `data.csv` is available [here](https://github.com/diehlpkteaching/MEDP-7098/blob/main/data.csv)."
   ]
  },
  {
   "cell_type": "code",
   "execution_count": 2,
   "id": "808d0d95",
   "metadata": {
    "slideshow": {
     "slide_type": "fragment"
    }
   },
   "outputs": [
    {
     "name": "stdout",
     "output_type": "stream",
     "text": [
      "#step,x,y,z,temperature\r\n",
      "1,0,0,0,60\r\n",
      "2,0,1,0,80\r\n",
      "3,0,0,1,100\r\n",
      "4,1,1,0,225\r\n"
     ]
    }
   ],
   "source": [
    "!cat ../data.csv"
   ]
  },
  {
   "cell_type": "markdown",
   "id": "79d14859",
   "metadata": {
    "slideshow": {
     "slide_type": "slide"
    }
   },
   "source": [
    "## Reading CSV files"
   ]
  },
  {
   "cell_type": "code",
   "execution_count": 3,
   "id": "e08192eb",
   "metadata": {
    "slideshow": {
     "slide_type": "fragment"
    }
   },
   "outputs": [
    {
     "name": "stdout",
     "output_type": "stream",
     "text": [
      "['1', '0', '0', '0', '60']\n",
      "['2', '0', '1', '0', '80']\n",
      "['3', '0', '0', '1', '100']\n",
      "['4', '1', '1', '0', '225']\n"
     ]
    }
   ],
   "source": [
    "import csv\n",
    "\n",
    "with open(\"../data.csv\") as csvfile:\n",
    "    spamreader = csv.reader(csvfile)\n",
    "    next(spamreader) # Skip the header\n",
    "    for row in spamreader:\n",
    "        print(row)"
   ]
  },
  {
   "cell_type": "markdown",
   "id": "1469edc1",
   "metadata": {
    "slideshow": {
     "slide_type": "slide"
    }
   },
   "source": [
    "## Converting the values"
   ]
  },
  {
   "cell_type": "code",
   "execution_count": 4,
   "id": "61c1a4ad",
   "metadata": {
    "slideshow": {
     "slide_type": "fragment"
    }
   },
   "outputs": [
    {
     "name": "stdout",
     "output_type": "stream",
     "text": [
      "15.555555555555555\n",
      "26.666666666666668\n",
      "37.77777777777778\n",
      "107.22222222222223\n"
     ]
    }
   ],
   "source": [
    "with open(\"../data.csv\") as csvfile:\n",
    "    spamreader = csv.reader(csvfile)\n",
    "    next(spamreader) # Skip the header\n",
    "    for row in spamreader:\n",
    "        temp = float(row[len(row)-1])\n",
    "        print((temp-32) * 5 / 9)"
   ]
  },
  {
   "cell_type": "markdown",
   "id": "580cc956",
   "metadata": {
    "slideshow": {
     "slide_type": "slide"
    }
   },
   "source": [
    "### Writing back to the CSV file"
   ]
  },
  {
   "cell_type": "code",
   "execution_count": 5,
   "id": "ca7ce6cd",
   "metadata": {
    "slideshow": {
     "slide_type": "fragment"
    }
   },
   "outputs": [],
   "source": [
    "with open('data_celcius.csv', 'w') as csvoutfile:\n",
    "    spamwriter = csv.writer(csvoutfile)\n",
    "    with open(\"../data.csv\") as csvfile:\n",
    "        spamreader = csv.reader(csvfile)\n",
    "        for row in spamreader:\n",
    "            if not '#' in row[0]:\n",
    "                temp = float(row[len(row)-1])\n",
    "                row[len(row)-1] = (temp-32) * 5 / 9\n",
    "            spamwriter.writerow(row)\n",
    "    "
   ]
  },
  {
   "cell_type": "code",
   "execution_count": 6,
   "id": "6ebd9d9d",
   "metadata": {
    "slideshow": {
     "slide_type": "fragment"
    }
   },
   "outputs": [
    {
     "name": "stdout",
     "output_type": "stream",
     "text": [
      "#step,x,y,z,temperature\n",
      "1,0,0,0,15.555555555555555\n",
      "2,0,1,0,26.666666666666668\n",
      "3,0,0,1,37.77777777777778\n",
      "4,1,1,0,107.22222222222223\n"
     ]
    }
   ],
   "source": [
    "%%bash\n",
    "cat data_celcius.csv"
   ]
  },
  {
   "cell_type": "markdown",
   "id": "f4aa21ce",
   "metadata": {
    "slideshow": {
     "slide_type": "slide"
    }
   },
   "source": [
    "## Monte Carlo methods\n",
    "\n",
    "\n",
    "General pattern:\n",
    "\n",
    "* Define the input parameters\n",
    "* Randomly chose input parameters   \n",
    "* Do deterministic computations on the inputs\n",
    "* Aggregate the results\n",
    "\n"
   ]
  },
  {
   "cell_type": "code",
   "execution_count": 7,
   "id": "53c1acd9",
   "metadata": {
    "slideshow": {
     "slide_type": "skip"
    }
   },
   "outputs": [
    {
     "data": {
      "image/png": "[encoded data removed]"
     },
     "metadata": {},
     "output_type": "display_data"
    }
   ],
   "source": [
    "%%tikz\n",
    "\\draw (0,0) -- (2,0) -- (2,2) -- (0,2) -- cycle;\n",
    "\\draw (1,1) circle (1cm);"
   ]
  },
  {
   "cell_type": "markdown",
   "id": "f9c44f09",
   "metadata": {
    "slideshow": {
     "slide_type": "slide"
    }
   },
   "source": [
    "Ingredients:\n",
    "\n",
    "\n",
    "* Unit square $1\\times 1$ \n",
    "* Circle with the radius of $r=\\frac{1}{2}$\n",
    "* Area of the circle $A_c=\\pi r^2 = \\frac{\\pi}{4} $ \n",
    "* Area of the square $A_s = 1 \\cdot 1 = 1$\n",
    "* Recall: $A_c=\\frac{\\pi}{4}\\rightarrow \\pi = 4A_c$\n",
    "* Hint:   $\\frac{A_c}{A_s} = A_c$ because $A_s=1$\n",
    "\n",
    "Now compute PI by using the two areas:\n",
    "\n",
    "$\\pi \\approx 4 \\frac{A_c}{A_s} $\n",
    "The areas can be approximated by using $N$ random samples $(x,y)$ and count the points inside the circle $N_c$ \n",
    "\n",
    "$\\pi \\approx 4 \\frac{N_c}{N} $\n"
   ]
  },
  {
   "cell_type": "code",
   "execution_count": null,
   "id": "29ff96b6",
   "metadata": {
    "slideshow": {
     "slide_type": "slide"
    }
   },
   "outputs": [],
   "source": [
    "import random\n",
    "import math\n",
    "\n",
    "ncount = 0.0\n",
    "\n",
    "# Ask the user for the nummber of iterations\n",
    "end = int(input(\"Please enter the number of iterations:\"))\n",
    "\n",
    "#  Loop over the iterations\n",
    "for _ in range(end):\n",
    "    xVar = random.uniform(0,1)\n",
    "    yVar = random.uniform(0,1)\n",
    "\n",
    "    if xVar * xVar + yVar * yVar <= 1:\n",
    "        ncount +=1 \n",
    "\n",
    "# Compute the final result\n",
    "pi = 4.0 * ncount / end\n",
    "\n",
    "# Print the final result\n",
    "print(\" Pi is equal to \" + str(pi) + \" after \" + str(end) + \" iterations\")\n",
    "print(\" Error:\" + str(pi-math.pi))"
   ]
  },
  {
   "cell_type": "markdown",
   "id": "324f323a",
   "metadata": {
    "slideshow": {
     "slide_type": "slide"
    }
   },
   "source": [
    "### Finite differences"
   ]
  },
  {
   "cell_type": "markdown",
   "id": "86f31e64",
   "metadata": {
    "slideshow": {
     "slide_type": "fragment"
    }
   },
   "source": [
    "### Classical linear elasticity model\n",
    "\n",
    "Let $\\Omega = (0,1) \\subset \\mathbb R$ and $\\overline{\\Omega}$ be the closure of $\\Omega$, i.e.\\ $\\Omega=[0,1]$. The continuum local problem consists in finding the displacement $(u\\in\\overline{\\Omega})$ such that:\n",
    "\n",
    "$$\n",
    "- E u''(x) = f_b(x), \\quad \\forall x \\in \\Omega, \n",
    "$$\n",
    "\n",
    "$$\n",
    "u(x) = 0, \\quad \\text{at}\\ x=0,\n",
    "$$\n",
    "\n",
    "$$\n",
    "Eu'(x) = g, \\quad \\text{at}\\ x=1,\n",
    "$$\n",
    "\n",
    "where $E$ is the constant modulus of elasticity of the bar, $f_b=f_b(x)$ is a scalar function describing the external body force density (per unit length), and $g \\in \\mathbb R$ is the traction force applied at end point $x=1$. "
   ]
  },
  {
   "cell_type": "code",
   "execution_count": null,
   "id": "86ef284d",
   "metadata": {
    "slideshow": {
     "slide_type": "slide"
    }
   },
   "outputs": [],
   "source": [
    "import numpy as np #Package for matrices and vectors \n",
    "\n",
    "\n",
    "# Generates matrix of size N times N and fills the matrix with zeros\n",
    "def zeroMatrix(N):\n",
    "\n",
    "    return np.zeros([N, N])\n",
    "\n",
    "# Generates a Blaze dynamic vector of size N and fills the vector with zeros\n",
    "def zeroVector(N):\n",
    "\n",
    "    return np.zeros([N])\n",
    " "
   ]
  },
  {
   "cell_type": "code",
   "execution_count": null,
   "id": "540a7e56",
   "metadata": {
    "slideshow": {
     "slide_type": "fragment"
    }
   },
   "outputs": [],
   "source": [
    "# Solves the matrix system A \\times x = b and returns x\n",
    "def solve(A,b):\n",
    "\n",
    "     return np.linalg.solve(A,b)"
   ]
  },
  {
   "cell_type": "markdown",
   "id": "e38ad40c",
   "metadata": {
    "slideshow": {
     "slide_type": "slide"
    }
   },
   "source": [
    "## Force function\n",
    "\n",
    "As the external load, a linear $force_b$ function $force : \\mathbb{R} \\rightarrow \\mathbb{R}$\n",
    "\n",
    " $$ force_b(x)  = \\begin{cases} 1, if x == 1, \\\\\n",
    " 0 , else\\end{cases}, x = [0,1]$$"
   ]
  },
  {
   "cell_type": "code",
   "execution_count": null,
   "id": "4a394333",
   "metadata": {
    "slideshow": {
     "slide_type": "fragment"
    }
   },
   "outputs": [],
   "source": [
    "def force(x):\n",
    "    \n",
    "    if x == 1:\n",
    "        return 1;\n",
    "    \n",
    "    return 0;\n"
   ]
  },
  {
   "cell_type": "markdown",
   "id": "4b117b1a",
   "metadata": {
    "slideshow": {
     "slide_type": "slide"
    }
   },
   "source": [
    "## Discretization\n",
    "\n",
    "As the domain $\\overline{\\Omega}$ we consider the intervall $[0,1]$ and discretize the interval with $n$ elements and using the spacing $h=\\frac{1}{n}$ such that $x={0,1\\cdot h,2\\cdot h,\\ldots,n\\cdot h}$."
   ]
  },
  {
   "cell_type": "code",
   "execution_count": null,
   "id": "5035b144",
   "metadata": {
    "slideshow": {
     "slide_type": "fragment"
    }
   },
   "outputs": [],
   "source": [
    "n = 2**4\n",
    "h= 1./n;\n",
    "n += 1;"
   ]
  },
  {
   "cell_type": "code",
   "execution_count": null,
   "id": "5b4f724a",
   "metadata": {
    "slideshow": {
     "slide_type": "fragment"
    }
   },
   "outputs": [],
   "source": [
    "x = zeroVector(n);\n",
    "for i in range(0,n):\n",
    "    x[i] = i * h;"
   ]
  },
  {
   "cell_type": "code",
   "execution_count": null,
   "id": "a182432d",
   "metadata": {
    "slideshow": {
     "slide_type": "slide"
    }
   },
   "outputs": [],
   "source": [
    "import matplotlib.pyplot as plt"
   ]
  },
  {
   "cell_type": "code",
   "execution_count": null,
   "id": "f18deb0d",
   "metadata": {
    "slideshow": {
     "slide_type": "fragment"
    }
   },
   "outputs": [],
   "source": [
    "plt.scatter(x,zeroVector(n))\n",
    "plt.xlabel(\"Position\")\n",
    "plt.title(\"Reference configuration\")"
   ]
  },
  {
   "cell_type": "code",
   "execution_count": null,
   "id": "436e7660",
   "metadata": {
    "slideshow": {
     "slide_type": "slide"
    }
   },
   "outputs": [],
   "source": [
    "f = zeroVector(n);\n",
    "for i in range(0,len(f)):\n",
    " f[i] = force(x[i])"
   ]
  },
  {
   "cell_type": "code",
   "execution_count": null,
   "id": "e79867cf",
   "metadata": {
    "slideshow": {
     "slide_type": "fragment"
    }
   },
   "outputs": [],
   "source": [
    "plt.scatter(x,f)\n",
    "plt.xlabel(\"Position\")\n",
    "plt.ylabel(\"Force\")"
   ]
  },
  {
   "cell_type": "markdown",
   "id": "6808faa0",
   "metadata": {
    "slideshow": {
     "slide_type": "slide"
    }
   },
   "source": [
    "### Assemble the stiffness matrix using finite differences\n",
    "\n",
    "\n",
    "1. Dirichlet boundary condition at $x=0$:\n",
    "$$\n",
    "u_1 = 0.\n",
    "$$\n",
    "2. Finite difference schems for \n",
    "In $\\overline{\\Omega}$: \n",
    "$\\forall i=2,\\ldots,n-1$:\n",
    "\n",
    "$$\n",
    "- E \\frac{u_{i-1}-2u_i+u_{i+1}}{h^2} = f_b(x_k).\n",
    "$$\n",
    "\n",
    "3. Neumann boundary condition at $x=1$:\n",
    "\n",
    "$$\n",
    "E \\frac{u_{n-3}-4u_{n-2}+3u_n-1}{2h} = g.\n",
    "$$\n",
    "\n",
    "For simplicity we assume $E=1$.\n"
   ]
  },
  {
   "cell_type": "code",
   "execution_count": null,
   "id": "e5e5f8b2",
   "metadata": {
    "slideshow": {
     "slide_type": "slide"
    }
   },
   "outputs": [],
   "source": [
    "matrix = zeroMatrix(n)\n",
    "\n",
    "matrix[0,0] = 1\n",
    "\n",
    "for i in range(1,n-1):\n",
    "    matrix[i,i-1] = -2;\n",
    "    matrix[i,i] = 4;\n",
    "    matrix[i,i+1] = -2;\n",
    "    \n",
    "\n",
    "matrix[n-1,n-1] = 3*h;\n",
    "matrix[n-1,n-2] = -4*h;    \n",
    "matrix[n-1,n-3] = h;\n",
    "\n",
    "matrix *= 1./(2*h*h);"
   ]
  },
  {
   "cell_type": "code",
   "execution_count": null,
   "id": "49f00cb0",
   "metadata": {
    "slideshow": {
     "slide_type": "fragment"
    }
   },
   "outputs": [],
   "source": [
    "u = solve(matrix,f)"
   ]
  },
  {
   "cell_type": "code",
   "execution_count": null,
   "id": "6bd39b61",
   "metadata": {
    "slideshow": {
     "slide_type": "slide"
    }
   },
   "outputs": [],
   "source": [
    "plt.scatter(x,u)\n",
    "plt.xlabel(\"Position\")\n",
    "plt.ylabel(\"Displacement\")"
   ]
  }
 ],
 "metadata": {
  "celltoolbar": "Slideshow",
  "kernelspec": {
   "display_name": "Python 3 (ipykernel)",
   "language": "python",
   "name": "python3"
  },
  "language_info": {
   "codemirror_mode": {
    "name": "ipython",
    "version": 3
   },
   "file_extension": ".py",
   "mimetype": "text/x-python",
   "name": "python",
   "nbconvert_exporter": "python",
   "pygments_lexer": "ipython3",
   "version": "3.10.5"
  }
 },
 "nbformat": 4,
 "nbformat_minor": 5
}
