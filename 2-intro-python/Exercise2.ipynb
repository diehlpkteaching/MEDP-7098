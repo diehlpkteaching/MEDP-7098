{
 "cells": [
  {
   "cell_type": "markdown",
   "id": "4d414aea",
   "metadata": {},
   "source": [
    "# Linear regression in Python\n",
    "\n",
    "Read the file `data_linear.csv` in the parent directory. This file contains the $x$ and $y$ values of all the points. And implement the linear regression using bash. You can either submit a bash script `linear_regresison.py` or this notebook here. \n",
    "\n",
    "Let us have a look at the file `data_linear.csv`"
   ]
  },
  {
   "cell_type": "code",
   "execution_count": 1,
   "id": "3e82ea78",
   "metadata": {},
   "outputs": [
    {
     "name": "stdout",
     "output_type": "stream",
     "text": [
      "#x,y\r",
      "\r\n",
      "5.91013086491916,4.714614608003876\r",
      "\r\n",
      "2.5003930209180583,2.076238375704194\r",
      "\r\n",
      "3.946844960264348,2.5488109888364376\r",
      "\r\n",
      "7.102232998003645,4.615368253480099\r",
      "\r\n",
      "6.1688949753749185,3.2641067900553953\r",
      "\r\n",
      "-0.9431946996910274,2.688852182917338\r",
      "\r\n",
      "3.8752210438139736,2.9557568227643185\r",
      "\r\n",
      "1.1216069792557553,1.9627546880563478\r",
      "\r\n",
      "1.2419528705161054,3.3340568743950243\r",
      "\r\n"
     ]
    }
   ],
   "source": [
    "!head ../data_linear.csv"
   ]
  },
  {
   "cell_type": "markdown",
   "id": "d805c35c",
   "metadata": {},
   "source": [
    "The algorithm is the following:\n",
    "    \n",
    "1. Read the coordinates $x_i$ and $y_i$ from the file. Note that you should skip the header.\n",
    "2. Compute the following quantities for all points $i=1,\\ldots,n$:\n",
    "    1. $sum_x = sum_x + x_i$\n",
    "    2. $sumX2 = sumX2 + x_i \\times x_i$\n",
    "    3. $sumY = sumY + y_i$\n",
    "    4. $sumXY = sumXY + x_i \\times x_i$\n",
    "3. Calculate Required Constant a and b of y = a + bx:\n",
    "    1. $b = (n * sumXY - sumX * sumY)/(n*sumX2 - sumX * sumX)$\n",
    "    2. $a = (sumY - b*sumX)/n$\n",
    "4. Print $a$ and $b$ to a new file `result.csv`."
   ]
  }
 ],
 "metadata": {
  "kernelspec": {
   "display_name": "Python 3",
   "language": "python",
   "name": "python3"
  },
  "language_info": {
   "codemirror_mode": {
    "name": "ipython",
    "version": 3
   },
   "file_extension": ".py",
   "mimetype": "text/x-python",
   "name": "python",
   "nbconvert_exporter": "python",
   "pygments_lexer": "ipython3",
   "version": "3.9.13"
  }
 },
 "nbformat": 4,
 "nbformat_minor": 5
}
