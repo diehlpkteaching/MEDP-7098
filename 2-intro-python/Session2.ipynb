{
 "cells": [
  {
   "cell_type": "markdown",
   "id": "cb9decc4",
   "metadata": {
    "slideshow": {
     "slide_type": "slide"
    }
   },
   "source": [
    "# Session 2 Introduction to Python programming\n",
    "\n",
    "## Outline\n",
    "\n",
    "1. About Python\n",
    "2. How to install Pyhton and Editors\n",
    "2. Python basics\n",
    "3. Classes\n",
    "4. Packages"
   ]
  },
  {
   "cell_type": "markdown",
   "id": "0bde294a",
   "metadata": {
    "slideshow": {
     "slide_type": "slide"
    }
   },
   "source": [
    "## About Python\n",
    "\n",
    "Python is a high-level and interpreted programming language with a focus on readabilty. Python was released in 1991 by Guido van Rossum. \n",
    "\n",
    "### Python is usd for\n",
    "\n",
    "* Sytem scripting - repeating tasks or autmate tasks\n",
    "* Mathematics and Simulations\n",
    "* Web development - Implementation of the server side\n",
    "* Data visualization"
   ]
  },
  {
   "cell_type": "markdown",
   "id": "e92308f8",
   "metadata": {
    "slideshow": {
     "slide_type": "slide"
    }
   },
   "source": [
    "### Why Python\n",
    "\n",
    "* Python runs on most operating system, like Windows, Mac, and Linux) - Sharing of code\n",
    "* Python has simple synatx based on mathematics and english language\n",
    "* Python program can be shorter, since fewer lines of code are needed\n",
    "\n",
    "### What is different\n",
    "\n",
    "* Python uses indentation, using whitespace, to define scope; such as the scope of loops, functions and classes.\n",
    "* Python has a really nice package manager and it is easy to install libraries"
   ]
  },
  {
   "cell_type": "markdown",
   "id": "72e95969",
   "metadata": {
    "slideshow": {
     "slide_type": "slide"
    }
   },
   "source": [
    "## Packages\n",
    "\n",
    "* [Matplotlib](matplotlib) - Visualization with Python\n",
    "* [Numpy](https://numpy.org/) - Arrays and numerical computing tools\n",
    "* [SciPy](https://scipy.org/) - algorithms for optimization, integration, interpolation, eigenvalue problems, algebraic equations, differential equations, statistics\n",
    "* [VTK](https://pypi.org/project/vtk/) - Image processing, 3D graphics, volume rendering and visualization\n",
    "* [mshio](https://pypi.org/project/meshio/) - Converting between various mesh formarts\n",
    "* [TensorFlow](https://www.tensorflow.org/) or [Keras](https://keras.io/) - Machine learning and deep learning"
   ]
  },
  {
   "cell_type": "code",
   "execution_count": null,
   "id": "fba1f796",
   "metadata": {},
   "outputs": [],
   "source": []
  }
 ],
 "metadata": {
  "celltoolbar": "Slideshow",
  "kernelspec": {
   "display_name": "Python 3 (ipykernel)",
   "language": "python",
   "name": "python3"
  },
  "language_info": {
   "codemirror_mode": {
    "name": "ipython",
    "version": 3
   },
   "file_extension": ".py",
   "mimetype": "text/x-python",
   "name": "python",
   "nbconvert_exporter": "python",
   "pygments_lexer": "ipython3",
   "version": "3.10.5"
  }
 },
 "nbformat": 4,
 "nbformat_minor": 5
}
