{
 "cells": [
  {
   "cell_type": "markdown",
   "id": "864e9638",
   "metadata": {
    "slideshow": {
     "slide_type": "slide"
    }
   },
   "source": [
    "# Session 2 Introduction to Python programming\n",
    "\n",
    "## Outline\n",
    "\n",
    "1. About Python\n",
    "2. How to install Python and Editors\n",
    "2. Python basics\n",
    "3. Classes\n",
    "4. Packages"
   ]
  },
  {
   "cell_type": "markdown",
   "id": "1cce56d0",
   "metadata": {
    "slideshow": {
     "slide_type": "slide"
    }
   },
   "source": [
    "## About Python\n",
    "\n",
    "Python is a high-level and interpreted programming language with a focus on readability. Python was released in 1991 by Guido van Rossum. \n",
    "\n",
    "### Python is used for\n",
    "\n",
    "* System scripting - repeating tasks or automate tasks\n",
    "* Mathematics and Simulations\n",
    "* Web development - Implementation of the server side\n",
    "* Data visualization"
   ]
  },
  {
   "cell_type": "markdown",
   "id": "11cd2c1d",
   "metadata": {
    "slideshow": {
     "slide_type": "slide"
    }
   },
   "source": [
    "### Why Python\n",
    "\n",
    "* Python runs on most operating system, like Windows, Mac, and Linux) - Sharing of code\n",
    "* Python has simple syntax based on mathematics and English language\n",
    "* Python program can be shorter, since fewer lines of code are needed\n",
    "\n",
    "### What is different\n",
    "\n",
    "* Python uses indentation, using white space, to define scope; such as the scope of loops, functions and classes.\n",
    "* Python has a really nice package manager and it is easy to install libraries"
   ]
  },
  {
   "cell_type": "markdown",
   "id": "cf80eebe",
   "metadata": {
    "slideshow": {
     "slide_type": "slide"
    }
   },
   "source": [
    "## How to install Python and Editors\n",
    "\n",
    "### Python \n",
    "\n",
    "* Linux: `sudo dnf install python3` or `sudo apt-get install python3`\n",
    "* MacOS: Install Python via [HomeBrew](https://brew.sh/index_de) \n",
    "* Windows: Install the executable from [Python.org](https://www.python.org/downloads/)\n",
    "* Docker: Using the official Python Docker [image](https://hub.docker.com/_/python) \n",
    "\n",
    "### Package manager \n",
    "\n",
    "* [pip](https://pip.pypa.io/en/stable/installation/) - `pip3 install numpy`\n",
    "* [anaconda](https://www.anaconda.com/) - `conda install -c anaconda numpy`\n"
   ]
  },
  {
   "cell_type": "markdown",
   "id": "2369ce1e",
   "metadata": {
    "slideshow": {
     "slide_type": "fragment"
    }
   },
   "source": [
    "### Editor\n",
    "\n",
    "* [Visual Studio Code](https://code.visualstudio.com/) -- Allows C++ and Python programming in the same editor\n",
    "* [Jupyter](https://www.simplilearn.com/tutorials/python-tutorial/jupyter-notebook) -- Runs in the browser and code can be run step by step and images are shown on the fly. \n",
    "* and many more editors are available. "
   ]
  },
  {
   "cell_type": "markdown",
   "id": "ca7fb092",
   "metadata": {
    "slideshow": {
     "slide_type": "slide"
    }
   },
   "source": [
    "## Basics\n",
    "\n",
    "The first example for all programming languages, is the so-called \"Hello world!\" program. In that case the string \"Hello world!\" is printed. Let us have a look into the Python code: "
   ]
  },
  {
   "cell_type": "code",
   "execution_count": 1,
   "id": "9362d185",
   "metadata": {
    "slideshow": {
     "slide_type": "fragment"
    }
   },
   "outputs": [
    {
     "name": "stdout",
     "output_type": "stream",
     "text": [
      "Hello, World!\n"
     ]
    }
   ],
   "source": [
    " print(\"Hello, World!\") "
   ]
  },
  {
   "cell_type": "markdown",
   "id": "67454cff",
   "metadata": {
    "slideshow": {
     "slide_type": "fragment"
    }
   },
   "source": [
    "Here, we executed the hello world code using Jupyter notebooks. Another option is to run a file with the code"
   ]
  },
  {
   "cell_type": "code",
   "execution_count": 2,
   "id": "79bc96db",
   "metadata": {
    "slideshow": {
     "slide_type": "fragment"
    }
   },
   "outputs": [
    {
     "name": "stdout",
     "output_type": "stream",
     "text": [
      "Overwriting helloworld.py\n"
     ]
    }
   ],
   "source": [
    "%%writefile helloworld.py\n",
    "print(\"Hello, World!\") "
   ]
  },
  {
   "cell_type": "code",
   "execution_count": 3,
   "id": "261882fe",
   "metadata": {
    "slideshow": {
     "slide_type": "fragment"
    }
   },
   "outputs": [
    {
     "name": "stdout",
     "output_type": "stream",
     "text": [
      "Hello, World!\n"
     ]
    }
   ],
   "source": [
    "%%bash\n",
    "python3 helloworld.py"
   ]
  },
  {
   "cell_type": "markdown",
   "id": "f6d80778",
   "metadata": {
    "slideshow": {
     "slide_type": "slide"
    }
   },
   "source": [
    "### Indentation\n",
    "\n",
    "Most programming languages use parentheses, like curly ${}$ ones, to specify the scope and indentation is used only for readability. In Python there are no parentheses and indentation is very important."
   ]
  },
  {
   "cell_type": "code",
   "execution_count": 4,
   "id": "4a067086",
   "metadata": {
    "slideshow": {
     "slide_type": "fragment"
    }
   },
   "outputs": [
    {
     "name": "stdout",
     "output_type": "stream",
     "text": [
      "Five is greater than two!\n"
     ]
    }
   ],
   "source": [
    "if 5 > 2:\n",
    "    print(\"Five is greater than two!\")"
   ]
  },
  {
   "cell_type": "markdown",
   "id": "3a8e213a",
   "metadata": {
    "slideshow": {
     "slide_type": "fragment"
    }
   },
   "source": [
    "Here, we use the `if` statement for conditional statements. Only if the condition `5 > 2` is evaluated as `true` all the indented code is executed."
   ]
  },
  {
   "cell_type": "markdown",
   "id": "9db5fc93",
   "metadata": {
    "slideshow": {
     "slide_type": "slide"
    }
   },
   "source": [
    "### Variables\n",
    "\n",
    "In Python we do not have types, like `int`, `double`, or `string` as in other languages. An the type of the variable is determined by the assignment. "
   ]
  },
  {
   "cell_type": "code",
   "execution_count": 5,
   "id": "b708b478",
   "metadata": {
    "slideshow": {
     "slide_type": "fragment"
    }
   },
   "outputs": [],
   "source": [
    "# Integer\n",
    "x = 5\n",
    "# Floating point value\n",
    "y = 5.5\n",
    "# String\n",
    "name = \"Medical physics\""
   ]
  },
  {
   "cell_type": "markdown",
   "id": "0b3b6802",
   "metadata": {
    "slideshow": {
     "slide_type": "fragment"
    }
   },
   "source": [
    "For in-code documentation the hashtag `#` is used and this lien of code is not executed. Python also supports multi line comments"
   ]
  },
  {
   "cell_type": "code",
   "execution_count": 6,
   "id": "3eda80dc",
   "metadata": {
    "slideshow": {
     "slide_type": "fragment"
    }
   },
   "outputs": [],
   "source": [
    "\"\"\"\n",
    "\"the meaning of life, \n",
    "the universe, and everything\n",
    "\"\"\"\n",
    "x=42"
   ]
  },
  {
   "cell_type": "markdown",
   "id": "25e92ca1",
   "metadata": {
    "slideshow": {
     "slide_type": "slide"
    }
   },
   "source": [
    "### Casting\n",
    "\n",
    "The programmer can specify the variable type, by casting the right-hand side to the desired type."
   ]
  },
  {
   "cell_type": "code",
   "execution_count": 7,
   "id": "feb16d14",
   "metadata": {
    "slideshow": {
     "slide_type": "fragment"
    }
   },
   "outputs": [],
   "source": [
    "x = str(3)    # x will be '3'\n",
    "y = int(3)    # y will be 3\n",
    "z = float(3)  # z will be 3.0 "
   ]
  },
  {
   "cell_type": "markdown",
   "id": "63f2cb48",
   "metadata": {
    "slideshow": {
     "slide_type": "fragment"
    }
   },
   "source": [
    "Getting the type of a variable "
   ]
  },
  {
   "cell_type": "code",
   "execution_count": 8,
   "id": "e3e8c093",
   "metadata": {
    "slideshow": {
     "slide_type": "fragment"
    }
   },
   "outputs": [
    {
     "name": "stdout",
     "output_type": "stream",
     "text": [
      "<class 'str'>\n"
     ]
    }
   ],
   "source": [
    "print(type(x))"
   ]
  },
  {
   "cell_type": "code",
   "execution_count": 9,
   "id": "b77a8a47",
   "metadata": {
    "slideshow": {
     "slide_type": "fragment"
    }
   },
   "outputs": [
    {
     "name": "stdout",
     "output_type": "stream",
     "text": [
      "<class 'float'>\n"
     ]
    }
   ],
   "source": [
    "print(type(z))"
   ]
  },
  {
   "cell_type": "markdown",
   "id": "4fb7a2ae",
   "metadata": {
    "slideshow": {
     "slide_type": "slide"
    }
   },
   "source": [
    "### Strings\n",
    "\n",
    "We can define a string using `'hello'` (single quotation) or `\"hello\"` (double quotation).\n"
   ]
  },
  {
   "cell_type": "code",
   "execution_count": 10,
   "id": "02d58897",
   "metadata": {
    "slideshow": {
     "slide_type": "fragment"
    }
   },
   "outputs": [
    {
     "name": "stdout",
     "output_type": "stream",
     "text": [
      "Medical\n"
     ]
    }
   ],
   "source": [
    "string = \"Medical Physics\"\n",
    "print(string[0:7])"
   ]
  },
  {
   "cell_type": "code",
   "execution_count": 11,
   "id": "e0c40661",
   "metadata": {},
   "outputs": [
    {
     "name": "stdout",
     "output_type": "stream",
     "text": [
      "P\n",
      "h\n",
      "y\n",
      "s\n",
      "i\n",
      "c\n",
      "s\n"
     ]
    }
   ],
   "source": [
    "for s in string[8:len(string)]:\n",
    "    print(s)"
   ]
  },
  {
   "cell_type": "markdown",
   "id": "0e5b70e0",
   "metadata": {
    "slideshow": {
     "slide_type": "slide"
    }
   },
   "source": [
    "### Operator\n",
    "\n",
    "* Arithmetic Operators\n",
    "* Assignment Operators\n",
    "* Comparison Operators\n",
    "* Logical operators"
   ]
  },
  {
   "cell_type": "markdown",
   "id": "145d5833",
   "metadata": {
    "slideshow": {
     "slide_type": "slide"
    }
   },
   "source": [
    "#### Arithmetic Operators (+, -, *, /, %, **, and //)"
   ]
  },
  {
   "cell_type": "code",
   "execution_count": 12,
   "id": "a9d43bfb",
   "metadata": {
    "slideshow": {
     "slide_type": "fragment"
    }
   },
   "outputs": [
    {
     "data": {
      "text/plain": [
       "10"
      ]
     },
     "execution_count": 12,
     "metadata": {},
     "output_type": "execute_result"
    }
   ],
   "source": [
    "5 + 5"
   ]
  },
  {
   "cell_type": "code",
   "execution_count": 13,
   "id": "ebc43d22",
   "metadata": {
    "slideshow": {
     "slide_type": "fragment"
    }
   },
   "outputs": [
    {
     "data": {
      "text/plain": [
       "256"
      ]
     },
     "execution_count": 13,
     "metadata": {},
     "output_type": "execute_result"
    }
   ],
   "source": [
    "2**8"
   ]
  },
  {
   "cell_type": "code",
   "execution_count": 14,
   "id": "447e2ca0",
   "metadata": {
    "slideshow": {
     "slide_type": "fragment"
    }
   },
   "outputs": [
    {
     "data": {
      "text/plain": [
       "2"
      ]
     },
     "execution_count": 14,
     "metadata": {},
     "output_type": "execute_result"
    }
   ],
   "source": [
    "10 % 4"
   ]
  },
  {
   "cell_type": "code",
   "execution_count": 15,
   "id": "bb2c7e49",
   "metadata": {
    "slideshow": {
     "slide_type": "fragment"
    }
   },
   "outputs": [
    {
     "data": {
      "text/plain": [
       "2"
      ]
     },
     "execution_count": 15,
     "metadata": {},
     "output_type": "execute_result"
    }
   ],
   "source": [
    "9 // 4 #Floor division"
   ]
  },
  {
   "cell_type": "markdown",
   "id": "d937aa0b",
   "metadata": {
    "slideshow": {
     "slide_type": "slide"
    }
   },
   "source": [
    "#### Assignment Operators (=, +=, -=. *=, /=. %=, //, and **=)"
   ]
  },
  {
   "cell_type": "code",
   "execution_count": 16,
   "id": "14f065a7",
   "metadata": {
    "slideshow": {
     "slide_type": "fragment"
    }
   },
   "outputs": [
    {
     "data": {
      "text/plain": [
       "8"
      ]
     },
     "execution_count": 16,
     "metadata": {},
     "output_type": "execute_result"
    }
   ],
   "source": [
    "x=4\n",
    "x += 4\n",
    "x"
   ]
  },
  {
   "cell_type": "code",
   "execution_count": 17,
   "id": "0a1d96f6",
   "metadata": {
    "slideshow": {
     "slide_type": "fragment"
    }
   },
   "outputs": [
    {
     "data": {
      "text/plain": [
       "1.0"
      ]
     },
     "execution_count": 17,
     "metadata": {},
     "output_type": "execute_result"
    }
   ],
   "source": [
    "x /= 8\n",
    "x"
   ]
  },
  {
   "cell_type": "markdown",
   "id": "9b1e2fd4",
   "metadata": {
    "slideshow": {
     "slide_type": "slide"
    }
   },
   "source": [
    "#### Comparison Operators (==. !=, >, <. >=, and <=)"
   ]
  },
  {
   "cell_type": "code",
   "execution_count": 18,
   "id": "74083f09",
   "metadata": {
    "slideshow": {
     "slide_type": "fragment"
    }
   },
   "outputs": [
    {
     "data": {
      "text/plain": [
       "True"
      ]
     },
     "execution_count": 18,
     "metadata": {},
     "output_type": "execute_result"
    }
   ],
   "source": [
    "2 == 2"
   ]
  },
  {
   "cell_type": "code",
   "execution_count": 19,
   "id": "b7a4e9ae",
   "metadata": {
    "slideshow": {
     "slide_type": "fragment"
    }
   },
   "outputs": [
    {
     "data": {
      "text/plain": [
       "True"
      ]
     },
     "execution_count": 19,
     "metadata": {},
     "output_type": "execute_result"
    }
   ],
   "source": [
    "4 != 5"
   ]
  },
  {
   "cell_type": "code",
   "execution_count": 20,
   "id": "1aab0cf1",
   "metadata": {
    "slideshow": {
     "slide_type": "fragment"
    }
   },
   "outputs": [
    {
     "data": {
      "text/plain": [
       "False"
      ]
     },
     "execution_count": 20,
     "metadata": {},
     "output_type": "execute_result"
    }
   ],
   "source": [
    "9 >= 34"
   ]
  },
  {
   "cell_type": "markdown",
   "id": "145b1e01",
   "metadata": {
    "slideshow": {
     "slide_type": "slide"
    }
   },
   "source": [
    "#### Logical Operator (and, or, not)"
   ]
  },
  {
   "cell_type": "code",
   "execution_count": 21,
   "id": "484b6965",
   "metadata": {
    "slideshow": {
     "slide_type": "fragment"
    }
   },
   "outputs": [],
   "source": [
    "x = 1"
   ]
  },
  {
   "cell_type": "code",
   "execution_count": 22,
   "id": "e737c4c3",
   "metadata": {
    "slideshow": {
     "slide_type": "fragment"
    }
   },
   "outputs": [
    {
     "data": {
      "text/plain": [
       "True"
      ]
     },
     "execution_count": 22,
     "metadata": {},
     "output_type": "execute_result"
    }
   ],
   "source": [
    "\n",
    "x < 5 and x < 10"
   ]
  },
  {
   "cell_type": "code",
   "execution_count": 23,
   "id": "9ce9ff55",
   "metadata": {
    "slideshow": {
     "slide_type": "fragment"
    }
   },
   "outputs": [
    {
     "data": {
      "text/plain": [
       "True"
      ]
     },
     "execution_count": 23,
     "metadata": {},
     "output_type": "execute_result"
    }
   ],
   "source": [
    "x < 0 or x < 5"
   ]
  },
  {
   "cell_type": "code",
   "execution_count": 24,
   "id": "a4e65417",
   "metadata": {
    "slideshow": {
     "slide_type": "fragment"
    }
   },
   "outputs": [
    {
     "data": {
      "text/plain": [
       "True"
      ]
     },
     "execution_count": 24,
     "metadata": {},
     "output_type": "execute_result"
    }
   ],
   "source": [
    "not x < -1"
   ]
  },
  {
   "cell_type": "markdown",
   "id": "385987ad",
   "metadata": {
    "slideshow": {
     "slide_type": "slide"
    }
   },
   "source": [
    "### Lists\n",
    "\n",
    "Lists are used to store multiple items in a single variable"
   ]
  },
  {
   "cell_type": "code",
   "execution_count": 25,
   "id": "29326d32",
   "metadata": {
    "slideshow": {
     "slide_type": "fragment"
    }
   },
   "outputs": [],
   "source": [
    "list = [\"Medical\",'Physics']"
   ]
  },
  {
   "cell_type": "code",
   "execution_count": 26,
   "id": "dd1a5b54",
   "metadata": {
    "slideshow": {
     "slide_type": "fragment"
    }
   },
   "outputs": [
    {
     "data": {
      "text/plain": [
       "'Medical'"
      ]
     },
     "execution_count": 26,
     "metadata": {},
     "output_type": "execute_result"
    }
   ],
   "source": [
    "list[0]"
   ]
  },
  {
   "cell_type": "code",
   "execution_count": 27,
   "id": "88c8f260",
   "metadata": {
    "slideshow": {
     "slide_type": "fragment"
    }
   },
   "outputs": [
    {
     "data": {
      "text/plain": [
       "'Physics'"
      ]
     },
     "execution_count": 27,
     "metadata": {},
     "output_type": "execute_result"
    }
   ],
   "source": [
    "list[1]"
   ]
  },
  {
   "cell_type": "code",
   "execution_count": 28,
   "id": "c2a4109c",
   "metadata": {
    "slideshow": {
     "slide_type": "fragment"
    }
   },
   "outputs": [
    {
     "data": {
      "text/plain": [
       "2"
      ]
     },
     "execution_count": 28,
     "metadata": {},
     "output_type": "execute_result"
    }
   ],
   "source": [
    "len(list)"
   ]
  },
  {
   "cell_type": "code",
   "execution_count": 29,
   "id": "83a7864a",
   "metadata": {
    "slideshow": {
     "slide_type": "fragment"
    }
   },
   "outputs": [],
   "source": [
    "# Lists can have mixed data types\n",
    "list = [\"Medical\",'Physics','MDEP',7098]"
   ]
  },
  {
   "cell_type": "code",
   "execution_count": 30,
   "id": "554559ec",
   "metadata": {
    "slideshow": {
     "slide_type": "slide"
    }
   },
   "outputs": [
    {
     "name": "stdout",
     "output_type": "stream",
     "text": [
      "['', 'Physics', 'MDEP', 7098]\n"
     ]
    }
   ],
   "source": [
    "list[0] = \"\"\n",
    "print(list)"
   ]
  },
  {
   "cell_type": "code",
   "execution_count": 31,
   "id": "7eef7bec",
   "metadata": {
    "slideshow": {
     "slide_type": "fragment"
    }
   },
   "outputs": [
    {
     "name": "stdout",
     "output_type": "stream",
     "text": [
      "['', 'Physics', 'MDEP', 'Patrick', 7098]\n"
     ]
    }
   ],
   "source": [
    "list.insert(3,\"Patrick\")\n",
    "print(list)"
   ]
  },
  {
   "cell_type": "code",
   "execution_count": 32,
   "id": "9f0de6e1",
   "metadata": {
    "slideshow": {
     "slide_type": "fragment"
    }
   },
   "outputs": [
    {
     "name": "stdout",
     "output_type": "stream",
     "text": [
      "['', 'Physics', 'MDEP', 7098]\n"
     ]
    }
   ],
   "source": [
    "list.remove(\"Patrick\")\n",
    "print(list)"
   ]
  },
  {
   "cell_type": "code",
   "execution_count": 33,
   "id": "0d4f1ff9",
   "metadata": {
    "slideshow": {
     "slide_type": "fragment"
    }
   },
   "outputs": [
    {
     "name": "stdout",
     "output_type": "stream",
     "text": [
      "['Physics', 'MDEP', 7098]\n"
     ]
    }
   ],
   "source": [
    "list.pop(0)\n",
    "print(list)"
   ]
  },
  {
   "cell_type": "code",
   "execution_count": 34,
   "id": "7136d1c3",
   "metadata": {
    "slideshow": {
     "slide_type": "slide"
    }
   },
   "outputs": [
    {
     "name": "stdout",
     "output_type": "stream",
     "text": [
      "[23, 50, 65, 82, 100]\n"
     ]
    }
   ],
   "source": [
    "list = [100, 50, 65, 82, 23]\n",
    "list.sort()\n",
    "print(list)"
   ]
  },
  {
   "cell_type": "code",
   "execution_count": 35,
   "id": "fb40f985",
   "metadata": {
    "slideshow": {
     "slide_type": "fragment"
    }
   },
   "outputs": [
    {
     "name": "stdout",
     "output_type": "stream",
     "text": [
      "[100, 82, 65, 50, 23]\n"
     ]
    }
   ],
   "source": [
    "def compare(n):\n",
    "    return -n\n",
    "list.sort(key = compare)\n",
    "print(list)"
   ]
  },
  {
   "cell_type": "markdown",
   "id": "49190d58",
   "metadata": {
    "slideshow": {
     "slide_type": "slide"
    }
   },
   "source": [
    "### For loops\n",
    "\n",
    "`For` loops can be used to access a list element by element or loop over an range."
   ]
  },
  {
   "cell_type": "code",
   "execution_count": 36,
   "id": "c9fb58bf",
   "metadata": {
    "slideshow": {
     "slide_type": "fragment"
    }
   },
   "outputs": [
    {
     "name": "stdout",
     "output_type": "stream",
     "text": [
      "100\n",
      "82\n",
      "65\n",
      "50\n",
      "23\n"
     ]
    }
   ],
   "source": [
    "for l in list:\n",
    "    print(l)"
   ]
  },
  {
   "cell_type": "code",
   "execution_count": 37,
   "id": "edf24b8e",
   "metadata": {
    "slideshow": {
     "slide_type": "fragment"
    }
   },
   "outputs": [
    {
     "name": "stdout",
     "output_type": "stream",
     "text": [
      "0\n",
      "1\n",
      "4\n",
      "9\n"
     ]
    }
   ],
   "source": [
    "for i in range(0,4):\n",
    "    print(i**2)"
   ]
  },
  {
   "cell_type": "markdown",
   "id": "59e821eb",
   "metadata": {
    "slideshow": {
     "slide_type": "slide"
    }
   },
   "source": [
    "### Functions"
   ]
  },
  {
   "cell_type": "code",
   "execution_count": 38,
   "id": "da93ddfc",
   "metadata": {
    "slideshow": {
     "slide_type": "fragment"
    }
   },
   "outputs": [
    {
     "name": "stdout",
     "output_type": "stream",
     "text": [
      "4\n"
     ]
    }
   ],
   "source": [
    "def pow(i):\n",
    "    return i**2\n",
    "\n",
    "print(pow(2))"
   ]
  },
  {
   "cell_type": "code",
   "execution_count": 39,
   "id": "40aecc08",
   "metadata": {
    "slideshow": {
     "slide_type": "fragment"
    }
   },
   "outputs": [
    {
     "name": "stdout",
     "output_type": "stream",
     "text": [
      "Raphael\n",
      "Donatello\n",
      "Michaelangelo\n",
      "Leonardo\n"
     ]
    }
   ],
   "source": [
    "def names(*name):\n",
    "    for n in name:\n",
    "        print(n)\n",
    "        \n",
    "names(\"Raphael\", \"Donatello\", \"Michaelangelo\", \"Leonardo\")"
   ]
  },
  {
   "cell_type": "markdown",
   "id": "363632a1",
   "metadata": {
    "slideshow": {
     "slide_type": "slide"
    }
   },
   "source": [
    "### Math module\n",
    "\n",
    "Python provides the module `import math` with additional mathematical functions"
   ]
  },
  {
   "cell_type": "code",
   "execution_count": 40,
   "id": "ce5f9ea3",
   "metadata": {
    "slideshow": {
     "slide_type": "fragment"
    }
   },
   "outputs": [
    {
     "data": {
      "text/plain": [
       "3.141592653589793"
      ]
     },
     "execution_count": 40,
     "metadata": {},
     "output_type": "execute_result"
    }
   ],
   "source": [
    "import math\n",
    "math.pi"
   ]
  },
  {
   "cell_type": "code",
   "execution_count": 41,
   "id": "c7248ea3",
   "metadata": {
    "slideshow": {
     "slide_type": "fragment"
    }
   },
   "outputs": [
    {
     "data": {
      "text/plain": [
       "1.4142135623730951"
      ]
     },
     "execution_count": 41,
     "metadata": {},
     "output_type": "execute_result"
    }
   ],
   "source": [
    "math.sqrt(2)"
   ]
  },
  {
   "cell_type": "markdown",
   "id": "e8ec0ed7",
   "metadata": {
    "slideshow": {
     "slide_type": "fragment"
    }
   },
   "source": [
    "A complete list with all functions and methods is available [here](https://www.w3schools.com/python/module_math.asp)."
   ]
  },
  {
   "cell_type": "markdown",
   "id": "dce7886f",
   "metadata": {
    "slideshow": {
     "slide_type": "slide"
    }
   },
   "source": [
    "## Classes\n",
    "\n",
    "Python is an object oriented programming language. An object can contain variables and functions.\n",
    "\n",
    "* The `__init__` method is called each time, we generate a new object\n",
    "* The keyword `self` is used to access the internal class variables and functions"
   ]
  },
  {
   "cell_type": "code",
   "execution_count": 42,
   "id": "7eaf3303",
   "metadata": {
    "slideshow": {
     "slide_type": "fragment"
    }
   },
   "outputs": [
    {
     "name": "stdout",
     "output_type": "stream",
     "text": [
      "Mike\n",
      "20\n",
      "21\n"
     ]
    }
   ],
   "source": [
    "class Person:\n",
    "    def __init__(self, name,age):\n",
    "        self.name = name\n",
    "        self.age = age\n",
    "        \n",
    "    def birthday(self):\n",
    "        self.age +=1\n",
    "        \n",
    "student = Person(\"Mike\",20)\n",
    "print(student.name)\n",
    "print(student.age)\n",
    "student.birthday()\n",
    "print(student.age)"
   ]
  },
  {
   "cell_type": "markdown",
   "id": "ee148b63",
   "metadata": {
    "slideshow": {
     "slide_type": "slide"
    }
   },
   "source": [
    "## Packages\n",
    "\n",
    "* [Matplotlib](matplotlib) - Visualization with Python\n",
    "* [Numpy](https://numpy.org/) - Arrays and numerical computing tools\n",
    "* [SciPy](https://scipy.org/) - algorithms for optimization, integration, interpolation, eigenvalue problems, algebraic equations, differential equations, statistics\n",
    "* [VTK](https://pypi.org/project/vtk/) - Image processing, 3D graphics, volume rendering and visualization\n",
    "* [mshio](https://pypi.org/project/meshio/) - Converting between various mesh formarts\n",
    "* [TensorFlow](https://www.tensorflow.org/) or [Keras](https://keras.io/) - Machine learning and deep learning"
   ]
  }
 ],
 "metadata": {
  "celltoolbar": "Slideshow",
  "kernelspec": {
   "display_name": "Python 3 (ipykernel)",
   "language": "python",
   "name": "python3"
  },
  "language_info": {
   "codemirror_mode": {
    "name": "ipython",
    "version": 3
   },
   "file_extension": ".py",
   "mimetype": "text/x-python",
   "name": "python",
   "nbconvert_exporter": "python",
   "pygments_lexer": "ipython3",
   "version": "3.10.5"
  }
 },
 "nbformat": 4,
 "nbformat_minor": 5
}
