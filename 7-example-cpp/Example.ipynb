{
 "cells": [
  {
   "cell_type": "markdown",
   "id": "6a7e88da",
   "metadata": {
    "slideshow": {
     "slide_type": "slide"
    }
   },
   "source": [
    "### Temperature conversion in C++"
   ]
  },
  {
   "cell_type": "code",
   "execution_count": 1,
   "id": "1697b3b1",
   "metadata": {
    "slideshow": {
     "slide_type": "fragment"
    }
   },
   "outputs": [
    {
     "data": {
      "text/html": [
       "<pre>#step,x,y,z,temperature\n",
       "1,0,0,0,60\n",
       "2,0,1,0,80\n",
       "3,0,0,1,100\n",
       "4,1,1,0,225\n",
       "</pre><pre style=\"color: red\"></pre>"
      ]
     },
     "execution_count": 1,
     "metadata": {},
     "output_type": "execute_result"
    }
   ],
   "source": [
    "%%bash\n",
    "cat data.csv"
   ]
  },
  {
   "cell_type": "code",
   "execution_count": 2,
   "id": "cba8c9d6",
   "metadata": {
    "slideshow": {
     "slide_type": "slide"
    }
   },
   "outputs": [
    {
     "data": {
      "text/plain": []
     },
     "execution_count": 2,
     "metadata": {},
     "output_type": "execute_result"
    }
   ],
   "source": [
    "#include <vector>\n",
    "#include <iostream>\n",
    "#include <fstream>\n",
    "#include <sstream> \n",
    "#include <tuple>"
   ]
  },
  {
   "cell_type": "code",
   "execution_count": 3,
   "id": "a64d878d",
   "metadata": {
    "slideshow": {
     "slide_type": "slide"
    }
   },
   "outputs": [
    {
     "data": {
      "text/plain": []
     },
     "execution_count": 3,
     "metadata": {},
     "output_type": "execute_result"
    }
   ],
   "source": [
    "std::pair<std::vector<std::vector<std::string>>,std::string> readCSV(std::string file_name){\n",
    "\n",
    "// Pointer to the file\n",
    "    std::fstream fin;\n",
    "\n",
    "    fin.open(file_name, std::ios::in);\n",
    "\n",
    "    if(!fin.is_open())\n",
    "    {\n",
    "        std::cerr << \"Could not open the file: \" << file_name << std::endl;\n",
    "        exit(1);\n",
    "    }\n",
    "std::vector<std::vector<std::string>> content;\n",
    "\n",
    "std::string line, word, header;\n",
    "std::vector<std::string> row;\n",
    "\n",
    "std::getline(fin,line);\n",
    "header = line;\n",
    "\n",
    "\n",
    "while(getline(fin,line))\n",
    "{\n",
    "\n",
    "    row.clear();\n",
    "\n",
    "    std::stringstream s(line);\n",
    "    \n",
    "    while(std::getline(s,word,',')){\n",
    "\n",
    "        row.push_back(word);\n",
    "}\n",
    "\n",
    "content.push_back(std::move(row));\n",
    "\n",
    "}\n",
    "\n",
    "fin.close();\n",
    "\n",
    "return make_pair(content,header);\n",
    "\n",
    "}"
   ]
  },
  {
   "cell_type": "code",
   "execution_count": 4,
   "id": "1e3ef4ff",
   "metadata": {
    "slideshow": {
     "slide_type": "slide"
    }
   },
   "outputs": [
    {
     "data": {
      "text/plain": []
     },
     "execution_count": 4,
     "metadata": {},
     "output_type": "execute_result"
    }
   ],
   "source": [
    "void writeCSV(std::string file_name, std::string header, std::vector<std::vector<std::string>> content){\n",
    "\n",
    "\n",
    "    std::fstream fout;\n",
    "\n",
    "    fout.open(file_name, std::ios::out );\n",
    "\n",
    "    fout << header << std::endl;\n",
    "\n",
    "    for (auto line : content )\n",
    "    {\n",
    "\n",
    "        int index = 0;\n",
    "        for (auto word : line){\n",
    "\n",
    "          fout << word;\n",
    "          if (index < line.size()-1)  \n",
    "          fout << \",\";\n",
    "            index++;\n",
    "        }\n",
    "\n",
    "    fout << std::endl;\n",
    "\n",
    "    }\n",
    "    fout.close();\n",
    "}"
   ]
  },
  {
   "cell_type": "code",
   "execution_count": 5,
   "id": "c3877a46",
   "metadata": {
    "slideshow": {
     "slide_type": "slide"
    }
   },
   "outputs": [
    {
     "data": {
      "text/plain": []
     },
     "execution_count": 5,
     "metadata": {},
     "output_type": "execute_result"
    }
   ],
   "source": [
    "auto result = readCSV(\"./data.csv\");\n",
    "\n",
    "auto content = std::get<0>(result);\n",
    "\n"
   ]
  },
  {
   "cell_type": "code",
   "execution_count": 6,
   "id": "a4bd01bf",
   "metadata": {
    "slideshow": {
     "slide_type": "slide"
    }
   },
   "outputs": [
    {
     "data": {
      "text/plain": []
     },
     "execution_count": 6,
     "metadata": {},
     "output_type": "execute_result"
    }
   ],
   "source": [
    "for ( auto &row : content )\n",
    "    {\n",
    "        \n",
    "        row.insert(row.end(),std::to_string((std::stod(row[row.size()-1])-32) * 5 / 9));\n",
    "    }\n"
   ]
  },
  {
   "cell_type": "code",
   "execution_count": 7,
   "id": "10cd7567",
   "metadata": {
    "slideshow": {
     "slide_type": "slide"
    }
   },
   "outputs": [
    {
     "data": {
      "text/plain": []
     },
     "execution_count": 7,
     "metadata": {},
     "output_type": "execute_result"
    }
   ],
   "source": [
    "writeCSV(\"data_celcius.csv\",std::get<1>(result),content);"
   ]
  },
  {
   "cell_type": "code",
   "execution_count": 8,
   "id": "b734dc91",
   "metadata": {
    "slideshow": {
     "slide_type": "slide"
    }
   },
   "outputs": [
    {
     "data": {
      "text/html": [
       "<pre>#step,x,y,z,temperature\n",
       "1,0,0,0,60,15.555556\n",
       "2,0,1,0,80,26.666667\n",
       "3,0,0,1,100,37.777778\n",
       "4,1,1,0,225,107.222222\n",
       "</pre><pre style=\"color: red\"></pre>"
      ]
     },
     "execution_count": 8,
     "metadata": {},
     "output_type": "execute_result"
    }
   ],
   "source": [
    "%%bash\n",
    "cat data_celcius.csv"
   ]
  }
 ],
 "metadata": {
  "celltoolbar": "Slideshow",
  "kernelspec": {
   "display_name": "C++17",
   "language": "C++",
   "name": "cling-cpp17"
  },
  "language_info": {
   "codemirror_mode": "c++",
   "file_extension": ".c++",
   "mimetype": "text/x-c++src",
   "name": "c++"
  }
 },
 "nbformat": 4,
 "nbformat_minor": 5
}
